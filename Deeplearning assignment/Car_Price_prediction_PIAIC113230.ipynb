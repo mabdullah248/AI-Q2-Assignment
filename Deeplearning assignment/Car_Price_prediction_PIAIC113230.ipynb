{
 "cells": [
  {
   "cell_type": "markdown",
   "metadata": {
    "id": "BYK7cS5Oa-GR"
   },
   "source": [
    "\n",
    "Car Price Prediction"
   ]
  },
  {
   "cell_type": "code",
   "execution_count": 1,
   "metadata": {
    "colab": {
     "base_uri": "https://localhost:8080/"
    },
    "executionInfo": {
     "elapsed": 100147,
     "status": "ok",
     "timestamp": 1618739960946,
     "user": {
      "displayName": "Muhammad Abdullah",
      "photoUrl": "https://lh3.googleusercontent.com/a-/AOh14GgzEqtifDXcGhaQ2OrGuwEdOYc5Oja8bXPgQjiT=s64",
      "userId": "11496234986057044171"
     },
     "user_tz": -300
    },
    "id": "Uv_v8UrvaYmZ",
    "outputId": "ec8bc267-d50e-40b7-fa04-04e6f10ceb53"
   },
   "outputs": [
    {
     "name": "stdout",
     "output_type": "stream",
     "text": [
      "Mounted at /content/drive\n"
     ]
    }
   ],
   "source": [
    "from google.colab import drive\n",
    "drive.mount('/content/drive')"
   ]
  },
  {
   "cell_type": "code",
   "execution_count": 5,
   "metadata": {
    "colab": {
     "base_uri": "https://localhost:8080/"
    },
    "executionInfo": {
     "elapsed": 1034,
     "status": "ok",
     "timestamp": 1618740505009,
     "user": {
      "displayName": "Muhammad Abdullah",
      "photoUrl": "https://lh3.googleusercontent.com/a-/AOh14GgzEqtifDXcGhaQ2OrGuwEdOYc5Oja8bXPgQjiT=s64",
      "userId": "11496234986057044171"
     },
     "user_tz": -300
    },
    "id": "hdX2c56Wa77E",
    "outputId": "0ff23f63-b419-4ec4-ba48-a572ed23d6fb"
   },
   "outputs": [
    {
     "name": "stdout",
     "output_type": "stream",
     "text": [
      "/content/drive/MyDrive\n"
     ]
    }
   ],
   "source": [
    "cd /content/drive/MyDrive"
   ]
  },
  {
   "cell_type": "code",
   "execution_count": 10,
   "metadata": {
    "executionInfo": {
     "elapsed": 1047,
     "status": "ok",
     "timestamp": 1618740522903,
     "user": {
      "displayName": "Muhammad Abdullah",
      "photoUrl": "https://lh3.googleusercontent.com/a-/AOh14GgzEqtifDXcGhaQ2OrGuwEdOYc5Oja8bXPgQjiT=s64",
      "userId": "11496234986057044171"
     },
     "user_tz": -300
    },
    "id": "qAFs89n4a-7V"
   },
   "outputs": [],
   "source": [
    "import pandas as pd\n",
    "import numpy as np\n",
    "car_data = pd.read_csv('./CarPrice_Assignment.csv')"
   ]
  },
  {
   "cell_type": "code",
   "execution_count": 11,
   "metadata": {
    "executionInfo": {
     "elapsed": 2429,
     "status": "ok",
     "timestamp": 1618740569195,
     "user": {
      "displayName": "Muhammad Abdullah",
      "photoUrl": "https://lh3.googleusercontent.com/a-/AOh14GgzEqtifDXcGhaQ2OrGuwEdOYc5Oja8bXPgQjiT=s64",
      "userId": "11496234986057044171"
     },
     "user_tz": -300
    },
    "id": "ifNpatGKaeJd"
   },
   "outputs": [],
   "source": [
    "import tensorflow as tf"
   ]
  },
  {
   "cell_type": "code",
   "execution_count": 13,
   "metadata": {
    "colab": {
     "base_uri": "https://localhost:8080/"
    },
    "executionInfo": {
     "elapsed": 1199,
     "status": "ok",
     "timestamp": 1618740605287,
     "user": {
      "displayName": "Muhammad Abdullah",
      "photoUrl": "https://lh3.googleusercontent.com/a-/AOh14GgzEqtifDXcGhaQ2OrGuwEdOYc5Oja8bXPgQjiT=s64",
      "userId": "11496234986057044171"
     },
     "user_tz": -300
    },
    "id": "GAQjgDTldNqu",
    "outputId": "b751fe86-8c96-4ed1-afa5-603d24c3670f"
   },
   "outputs": [
    {
     "data": {
      "text/plain": [
       "<bound method NDFrame.head of      car_ID  symboling                   CarName  ... citympg highwaympg    price\n",
       "0         1          3        alfa-romero giulia  ...      21         27  13495.0\n",
       "1         2          3       alfa-romero stelvio  ...      21         27  16500.0\n",
       "2         3          1  alfa-romero Quadrifoglio  ...      19         26  16500.0\n",
       "3         4          2               audi 100 ls  ...      24         30  13950.0\n",
       "4         5          2                audi 100ls  ...      18         22  17450.0\n",
       "..      ...        ...                       ...  ...     ...        ...      ...\n",
       "200     201         -1           volvo 145e (sw)  ...      23         28  16845.0\n",
       "201     202         -1               volvo 144ea  ...      19         25  19045.0\n",
       "202     203         -1               volvo 244dl  ...      18         23  21485.0\n",
       "203     204         -1                 volvo 246  ...      26         27  22470.0\n",
       "204     205         -1               volvo 264gl  ...      19         25  22625.0\n",
       "\n",
       "[205 rows x 26 columns]>"
      ]
     },
     "execution_count": 13,
     "metadata": {
      "tags": []
     },
     "output_type": "execute_result"
    }
   ],
   "source": [
    "car_data.head\n",
    "\n"
   ]
  },
  {
   "cell_type": "code",
   "execution_count": 14,
   "metadata": {
    "colab": {
     "base_uri": "https://localhost:8080/"
    },
    "executionInfo": {
     "elapsed": 973,
     "status": "ok",
     "timestamp": 1618740626069,
     "user": {
      "displayName": "Muhammad Abdullah",
      "photoUrl": "https://lh3.googleusercontent.com/a-/AOh14GgzEqtifDXcGhaQ2OrGuwEdOYc5Oja8bXPgQjiT=s64",
      "userId": "11496234986057044171"
     },
     "user_tz": -300
    },
    "id": "8dqKxBrfdSG1",
    "outputId": "1bf4e3d3-e0d7-4ece-b400-50a67e4bcf9f"
   },
   "outputs": [
    {
     "data": {
      "text/plain": [
       "(array([], dtype=int64), array([], dtype=int64))"
      ]
     },
     "execution_count": 14,
     "metadata": {
      "tags": []
     },
     "output_type": "execute_result"
    }
   ],
   "source": [
    "#check if there are empty cells, if there are then row and column indexes will be returned where values are empty or missing\n",
    "np.where(car_data.applymap(lambda x: x ==''))"
   ]
  },
  {
   "cell_type": "code",
   "execution_count": 15,
   "metadata": {
    "colab": {
     "base_uri": "https://localhost:8080/"
    },
    "executionInfo": {
     "elapsed": 1043,
     "status": "ok",
     "timestamp": 1618740641442,
     "user": {
      "displayName": "Muhammad Abdullah",
      "photoUrl": "https://lh3.googleusercontent.com/a-/AOh14GgzEqtifDXcGhaQ2OrGuwEdOYc5Oja8bXPgQjiT=s64",
      "userId": "11496234986057044171"
     },
     "user_tz": -300
    },
    "id": "1AnfiDShdd0U",
    "outputId": "6397923b-b5e9-4ab6-9672-5ef1776e8e6b"
   },
   "outputs": [
    {
     "data": {
      "text/plain": [
       "car_ID              False\n",
       "symboling           False\n",
       "CarName             False\n",
       "fueltype            False\n",
       "aspiration          False\n",
       "doornumber          False\n",
       "carbody             False\n",
       "drivewheel          False\n",
       "enginelocation      False\n",
       "wheelbase           False\n",
       "carlength           False\n",
       "carwidth            False\n",
       "carheight           False\n",
       "curbweight          False\n",
       "enginetype          False\n",
       "cylindernumber      False\n",
       "enginesize          False\n",
       "fuelsystem          False\n",
       "boreratio           False\n",
       "stroke              False\n",
       "compressionratio    False\n",
       "horsepower          False\n",
       "peakrpm             False\n",
       "citympg             False\n",
       "highwaympg          False\n",
       "price               False\n",
       "dtype: bool"
      ]
     },
     "execution_count": 15,
     "metadata": {
      "tags": []
     },
     "output_type": "execute_result"
    }
   ],
   "source": [
    "car_data.isnull().any()"
   ]
  },
  {
   "cell_type": "code",
   "execution_count": 16,
   "metadata": {
    "executionInfo": {
     "elapsed": 1062,
     "status": "ok",
     "timestamp": 1618740652600,
     "user": {
      "displayName": "Muhammad Abdullah",
      "photoUrl": "https://lh3.googleusercontent.com/a-/AOh14GgzEqtifDXcGhaQ2OrGuwEdOYc5Oja8bXPgQjiT=s64",
      "userId": "11496234986057044171"
     },
     "user_tz": -300
    },
    "id": "OQ5JWaWEdd9K"
   },
   "outputs": [],
   "source": [
    "# drop useless column\n",
    "car_data.drop(columns = ['car_ID','CarName'], inplace= True)"
   ]
  },
  {
   "cell_type": "code",
   "execution_count": 19,
   "metadata": {
    "executionInfo": {
     "elapsed": 1035,
     "status": "ok",
     "timestamp": 1618740713745,
     "user": {
      "displayName": "Muhammad Abdullah",
      "photoUrl": "https://lh3.googleusercontent.com/a-/AOh14GgzEqtifDXcGhaQ2OrGuwEdOYc5Oja8bXPgQjiT=s64",
      "userId": "11496234986057044171"
     },
     "user_tz": -300
    },
    "id": "YdC05-obdeSF"
   },
   "outputs": [],
   "source": [
    "# onehot encode all catagorical columns\n",
    "final_car = pd.get_dummies(car_data, columns=['symboling','fueltype',\t'aspiration',\t'doornumber',\t'carbody',\t'drivewheel',\t'enginelocation',\t'enginetype',\t'cylindernumber',\t'fuelsystem'])"
   ]
  },
  {
   "cell_type": "code",
   "execution_count": 20,
   "metadata": {
    "colab": {
     "base_uri": "https://localhost:8080/",
     "height": 320
    },
    "executionInfo": {
     "elapsed": 991,
     "status": "ok",
     "timestamp": 1618740722709,
     "user": {
      "displayName": "Muhammad Abdullah",
      "photoUrl": "https://lh3.googleusercontent.com/a-/AOh14GgzEqtifDXcGhaQ2OrGuwEdOYc5Oja8bXPgQjiT=s64",
      "userId": "11496234986057044171"
     },
     "user_tz": -300
    },
    "id": "jlciHJT6dlTW",
    "outputId": "a027244f-eb31-41c0-b164-ad0f7745fe06"
   },
   "outputs": [
    {
     "data": {
      "text/html": [
       "<div>\n",
       "<style scoped>\n",
       "    .dataframe tbody tr th:only-of-type {\n",
       "        vertical-align: middle;\n",
       "    }\n",
       "\n",
       "    .dataframe tbody tr th {\n",
       "        vertical-align: top;\n",
       "    }\n",
       "\n",
       "    .dataframe thead th {\n",
       "        text-align: right;\n",
       "    }\n",
       "</style>\n",
       "<table border=\"1\" class=\"dataframe\">\n",
       "  <thead>\n",
       "    <tr style=\"text-align: right;\">\n",
       "      <th></th>\n",
       "      <th>wheelbase</th>\n",
       "      <th>carlength</th>\n",
       "      <th>carwidth</th>\n",
       "      <th>carheight</th>\n",
       "      <th>curbweight</th>\n",
       "      <th>enginesize</th>\n",
       "      <th>boreratio</th>\n",
       "      <th>stroke</th>\n",
       "      <th>compressionratio</th>\n",
       "      <th>horsepower</th>\n",
       "      <th>peakrpm</th>\n",
       "      <th>citympg</th>\n",
       "      <th>highwaympg</th>\n",
       "      <th>price</th>\n",
       "      <th>symboling_-2</th>\n",
       "      <th>symboling_-1</th>\n",
       "      <th>symboling_0</th>\n",
       "      <th>symboling_1</th>\n",
       "      <th>symboling_2</th>\n",
       "      <th>symboling_3</th>\n",
       "      <th>fueltype_diesel</th>\n",
       "      <th>fueltype_gas</th>\n",
       "      <th>aspiration_std</th>\n",
       "      <th>aspiration_turbo</th>\n",
       "      <th>doornumber_four</th>\n",
       "      <th>doornumber_two</th>\n",
       "      <th>carbody_convertible</th>\n",
       "      <th>carbody_hardtop</th>\n",
       "      <th>carbody_hatchback</th>\n",
       "      <th>carbody_sedan</th>\n",
       "      <th>carbody_wagon</th>\n",
       "      <th>drivewheel_4wd</th>\n",
       "      <th>drivewheel_fwd</th>\n",
       "      <th>drivewheel_rwd</th>\n",
       "      <th>enginelocation_front</th>\n",
       "      <th>enginelocation_rear</th>\n",
       "      <th>enginetype_dohc</th>\n",
       "      <th>enginetype_dohcv</th>\n",
       "      <th>enginetype_l</th>\n",
       "      <th>enginetype_ohc</th>\n",
       "      <th>enginetype_ohcf</th>\n",
       "      <th>enginetype_ohcv</th>\n",
       "      <th>enginetype_rotor</th>\n",
       "      <th>cylindernumber_eight</th>\n",
       "      <th>cylindernumber_five</th>\n",
       "      <th>cylindernumber_four</th>\n",
       "      <th>cylindernumber_six</th>\n",
       "      <th>cylindernumber_three</th>\n",
       "      <th>cylindernumber_twelve</th>\n",
       "      <th>cylindernumber_two</th>\n",
       "      <th>fuelsystem_1bbl</th>\n",
       "      <th>fuelsystem_2bbl</th>\n",
       "      <th>fuelsystem_4bbl</th>\n",
       "      <th>fuelsystem_idi</th>\n",
       "      <th>fuelsystem_mfi</th>\n",
       "      <th>fuelsystem_mpfi</th>\n",
       "      <th>fuelsystem_spdi</th>\n",
       "      <th>fuelsystem_spfi</th>\n",
       "    </tr>\n",
       "  </thead>\n",
       "  <tbody>\n",
       "    <tr>\n",
       "      <th>count</th>\n",
       "      <td>205.000000</td>\n",
       "      <td>205.000000</td>\n",
       "      <td>205.000000</td>\n",
       "      <td>205.000000</td>\n",
       "      <td>205.000000</td>\n",
       "      <td>205.000000</td>\n",
       "      <td>205.000000</td>\n",
       "      <td>205.000000</td>\n",
       "      <td>205.000000</td>\n",
       "      <td>205.000000</td>\n",
       "      <td>205.000000</td>\n",
       "      <td>205.000000</td>\n",
       "      <td>205.000000</td>\n",
       "      <td>205.000000</td>\n",
       "      <td>205.000000</td>\n",
       "      <td>205.000000</td>\n",
       "      <td>205.000000</td>\n",
       "      <td>205.000000</td>\n",
       "      <td>205.000000</td>\n",
       "      <td>205.000000</td>\n",
       "      <td>205.000000</td>\n",
       "      <td>205.000000</td>\n",
       "      <td>205.000000</td>\n",
       "      <td>205.000000</td>\n",
       "      <td>205.000000</td>\n",
       "      <td>205.000000</td>\n",
       "      <td>205.000000</td>\n",
       "      <td>205.000000</td>\n",
       "      <td>205.000000</td>\n",
       "      <td>205.000000</td>\n",
       "      <td>205.000000</td>\n",
       "      <td>205.000000</td>\n",
       "      <td>205.000000</td>\n",
       "      <td>205.000000</td>\n",
       "      <td>205.000000</td>\n",
       "      <td>205.000000</td>\n",
       "      <td>205.000000</td>\n",
       "      <td>205.000000</td>\n",
       "      <td>205.000000</td>\n",
       "      <td>205.000000</td>\n",
       "      <td>205.000000</td>\n",
       "      <td>205.000000</td>\n",
       "      <td>205.000000</td>\n",
       "      <td>205.000000</td>\n",
       "      <td>205.000000</td>\n",
       "      <td>205.000000</td>\n",
       "      <td>205.000000</td>\n",
       "      <td>205.000000</td>\n",
       "      <td>205.000000</td>\n",
       "      <td>205.000000</td>\n",
       "      <td>205.000000</td>\n",
       "      <td>205.000000</td>\n",
       "      <td>205.000000</td>\n",
       "      <td>205.000000</td>\n",
       "      <td>205.000000</td>\n",
       "      <td>205.000000</td>\n",
       "      <td>205.000000</td>\n",
       "      <td>205.000000</td>\n",
       "    </tr>\n",
       "    <tr>\n",
       "      <th>mean</th>\n",
       "      <td>98.756585</td>\n",
       "      <td>174.049268</td>\n",
       "      <td>65.907805</td>\n",
       "      <td>53.724878</td>\n",
       "      <td>2555.565854</td>\n",
       "      <td>126.907317</td>\n",
       "      <td>3.329756</td>\n",
       "      <td>3.255415</td>\n",
       "      <td>10.142537</td>\n",
       "      <td>104.117073</td>\n",
       "      <td>5125.121951</td>\n",
       "      <td>25.219512</td>\n",
       "      <td>30.751220</td>\n",
       "      <td>13276.710571</td>\n",
       "      <td>0.014634</td>\n",
       "      <td>0.107317</td>\n",
       "      <td>0.326829</td>\n",
       "      <td>0.263415</td>\n",
       "      <td>0.156098</td>\n",
       "      <td>0.131707</td>\n",
       "      <td>0.097561</td>\n",
       "      <td>0.902439</td>\n",
       "      <td>0.819512</td>\n",
       "      <td>0.180488</td>\n",
       "      <td>0.560976</td>\n",
       "      <td>0.439024</td>\n",
       "      <td>0.029268</td>\n",
       "      <td>0.039024</td>\n",
       "      <td>0.341463</td>\n",
       "      <td>0.468293</td>\n",
       "      <td>0.121951</td>\n",
       "      <td>0.043902</td>\n",
       "      <td>0.585366</td>\n",
       "      <td>0.370732</td>\n",
       "      <td>0.985366</td>\n",
       "      <td>0.014634</td>\n",
       "      <td>0.058537</td>\n",
       "      <td>0.004878</td>\n",
       "      <td>0.058537</td>\n",
       "      <td>0.721951</td>\n",
       "      <td>0.073171</td>\n",
       "      <td>0.063415</td>\n",
       "      <td>0.019512</td>\n",
       "      <td>0.024390</td>\n",
       "      <td>0.053659</td>\n",
       "      <td>0.775610</td>\n",
       "      <td>0.117073</td>\n",
       "      <td>0.004878</td>\n",
       "      <td>0.004878</td>\n",
       "      <td>0.019512</td>\n",
       "      <td>0.053659</td>\n",
       "      <td>0.321951</td>\n",
       "      <td>0.014634</td>\n",
       "      <td>0.097561</td>\n",
       "      <td>0.004878</td>\n",
       "      <td>0.458537</td>\n",
       "      <td>0.043902</td>\n",
       "      <td>0.004878</td>\n",
       "    </tr>\n",
       "    <tr>\n",
       "      <th>std</th>\n",
       "      <td>6.021776</td>\n",
       "      <td>12.337289</td>\n",
       "      <td>2.145204</td>\n",
       "      <td>2.443522</td>\n",
       "      <td>520.680204</td>\n",
       "      <td>41.642693</td>\n",
       "      <td>0.270844</td>\n",
       "      <td>0.313597</td>\n",
       "      <td>3.972040</td>\n",
       "      <td>39.544167</td>\n",
       "      <td>476.985643</td>\n",
       "      <td>6.542142</td>\n",
       "      <td>6.886443</td>\n",
       "      <td>7988.852332</td>\n",
       "      <td>0.120377</td>\n",
       "      <td>0.310274</td>\n",
       "      <td>0.470202</td>\n",
       "      <td>0.441564</td>\n",
       "      <td>0.363836</td>\n",
       "      <td>0.339000</td>\n",
       "      <td>0.297446</td>\n",
       "      <td>0.297446</td>\n",
       "      <td>0.385535</td>\n",
       "      <td>0.385535</td>\n",
       "      <td>0.497483</td>\n",
       "      <td>0.497483</td>\n",
       "      <td>0.168970</td>\n",
       "      <td>0.194127</td>\n",
       "      <td>0.475361</td>\n",
       "      <td>0.500215</td>\n",
       "      <td>0.328031</td>\n",
       "      <td>0.205380</td>\n",
       "      <td>0.493865</td>\n",
       "      <td>0.484183</td>\n",
       "      <td>0.120377</td>\n",
       "      <td>0.120377</td>\n",
       "      <td>0.235330</td>\n",
       "      <td>0.069843</td>\n",
       "      <td>0.235330</td>\n",
       "      <td>0.449134</td>\n",
       "      <td>0.261054</td>\n",
       "      <td>0.244304</td>\n",
       "      <td>0.138655</td>\n",
       "      <td>0.154635</td>\n",
       "      <td>0.225894</td>\n",
       "      <td>0.418201</td>\n",
       "      <td>0.322294</td>\n",
       "      <td>0.069843</td>\n",
       "      <td>0.069843</td>\n",
       "      <td>0.138655</td>\n",
       "      <td>0.225894</td>\n",
       "      <td>0.468368</td>\n",
       "      <td>0.120377</td>\n",
       "      <td>0.297446</td>\n",
       "      <td>0.069843</td>\n",
       "      <td>0.499498</td>\n",
       "      <td>0.205380</td>\n",
       "      <td>0.069843</td>\n",
       "    </tr>\n",
       "    <tr>\n",
       "      <th>min</th>\n",
       "      <td>86.600000</td>\n",
       "      <td>141.100000</td>\n",
       "      <td>60.300000</td>\n",
       "      <td>47.800000</td>\n",
       "      <td>1488.000000</td>\n",
       "      <td>61.000000</td>\n",
       "      <td>2.540000</td>\n",
       "      <td>2.070000</td>\n",
       "      <td>7.000000</td>\n",
       "      <td>48.000000</td>\n",
       "      <td>4150.000000</td>\n",
       "      <td>13.000000</td>\n",
       "      <td>16.000000</td>\n",
       "      <td>5118.000000</td>\n",
       "      <td>0.000000</td>\n",
       "      <td>0.000000</td>\n",
       "      <td>0.000000</td>\n",
       "      <td>0.000000</td>\n",
       "      <td>0.000000</td>\n",
       "      <td>0.000000</td>\n",
       "      <td>0.000000</td>\n",
       "      <td>0.000000</td>\n",
       "      <td>0.000000</td>\n",
       "      <td>0.000000</td>\n",
       "      <td>0.000000</td>\n",
       "      <td>0.000000</td>\n",
       "      <td>0.000000</td>\n",
       "      <td>0.000000</td>\n",
       "      <td>0.000000</td>\n",
       "      <td>0.000000</td>\n",
       "      <td>0.000000</td>\n",
       "      <td>0.000000</td>\n",
       "      <td>0.000000</td>\n",
       "      <td>0.000000</td>\n",
       "      <td>0.000000</td>\n",
       "      <td>0.000000</td>\n",
       "      <td>0.000000</td>\n",
       "      <td>0.000000</td>\n",
       "      <td>0.000000</td>\n",
       "      <td>0.000000</td>\n",
       "      <td>0.000000</td>\n",
       "      <td>0.000000</td>\n",
       "      <td>0.000000</td>\n",
       "      <td>0.000000</td>\n",
       "      <td>0.000000</td>\n",
       "      <td>0.000000</td>\n",
       "      <td>0.000000</td>\n",
       "      <td>0.000000</td>\n",
       "      <td>0.000000</td>\n",
       "      <td>0.000000</td>\n",
       "      <td>0.000000</td>\n",
       "      <td>0.000000</td>\n",
       "      <td>0.000000</td>\n",
       "      <td>0.000000</td>\n",
       "      <td>0.000000</td>\n",
       "      <td>0.000000</td>\n",
       "      <td>0.000000</td>\n",
       "      <td>0.000000</td>\n",
       "    </tr>\n",
       "    <tr>\n",
       "      <th>25%</th>\n",
       "      <td>94.500000</td>\n",
       "      <td>166.300000</td>\n",
       "      <td>64.100000</td>\n",
       "      <td>52.000000</td>\n",
       "      <td>2145.000000</td>\n",
       "      <td>97.000000</td>\n",
       "      <td>3.150000</td>\n",
       "      <td>3.110000</td>\n",
       "      <td>8.600000</td>\n",
       "      <td>70.000000</td>\n",
       "      <td>4800.000000</td>\n",
       "      <td>19.000000</td>\n",
       "      <td>25.000000</td>\n",
       "      <td>7788.000000</td>\n",
       "      <td>0.000000</td>\n",
       "      <td>0.000000</td>\n",
       "      <td>0.000000</td>\n",
       "      <td>0.000000</td>\n",
       "      <td>0.000000</td>\n",
       "      <td>0.000000</td>\n",
       "      <td>0.000000</td>\n",
       "      <td>1.000000</td>\n",
       "      <td>1.000000</td>\n",
       "      <td>0.000000</td>\n",
       "      <td>0.000000</td>\n",
       "      <td>0.000000</td>\n",
       "      <td>0.000000</td>\n",
       "      <td>0.000000</td>\n",
       "      <td>0.000000</td>\n",
       "      <td>0.000000</td>\n",
       "      <td>0.000000</td>\n",
       "      <td>0.000000</td>\n",
       "      <td>0.000000</td>\n",
       "      <td>0.000000</td>\n",
       "      <td>1.000000</td>\n",
       "      <td>0.000000</td>\n",
       "      <td>0.000000</td>\n",
       "      <td>0.000000</td>\n",
       "      <td>0.000000</td>\n",
       "      <td>0.000000</td>\n",
       "      <td>0.000000</td>\n",
       "      <td>0.000000</td>\n",
       "      <td>0.000000</td>\n",
       "      <td>0.000000</td>\n",
       "      <td>0.000000</td>\n",
       "      <td>1.000000</td>\n",
       "      <td>0.000000</td>\n",
       "      <td>0.000000</td>\n",
       "      <td>0.000000</td>\n",
       "      <td>0.000000</td>\n",
       "      <td>0.000000</td>\n",
       "      <td>0.000000</td>\n",
       "      <td>0.000000</td>\n",
       "      <td>0.000000</td>\n",
       "      <td>0.000000</td>\n",
       "      <td>0.000000</td>\n",
       "      <td>0.000000</td>\n",
       "      <td>0.000000</td>\n",
       "    </tr>\n",
       "    <tr>\n",
       "      <th>50%</th>\n",
       "      <td>97.000000</td>\n",
       "      <td>173.200000</td>\n",
       "      <td>65.500000</td>\n",
       "      <td>54.100000</td>\n",
       "      <td>2414.000000</td>\n",
       "      <td>120.000000</td>\n",
       "      <td>3.310000</td>\n",
       "      <td>3.290000</td>\n",
       "      <td>9.000000</td>\n",
       "      <td>95.000000</td>\n",
       "      <td>5200.000000</td>\n",
       "      <td>24.000000</td>\n",
       "      <td>30.000000</td>\n",
       "      <td>10295.000000</td>\n",
       "      <td>0.000000</td>\n",
       "      <td>0.000000</td>\n",
       "      <td>0.000000</td>\n",
       "      <td>0.000000</td>\n",
       "      <td>0.000000</td>\n",
       "      <td>0.000000</td>\n",
       "      <td>0.000000</td>\n",
       "      <td>1.000000</td>\n",
       "      <td>1.000000</td>\n",
       "      <td>0.000000</td>\n",
       "      <td>1.000000</td>\n",
       "      <td>0.000000</td>\n",
       "      <td>0.000000</td>\n",
       "      <td>0.000000</td>\n",
       "      <td>0.000000</td>\n",
       "      <td>0.000000</td>\n",
       "      <td>0.000000</td>\n",
       "      <td>0.000000</td>\n",
       "      <td>1.000000</td>\n",
       "      <td>0.000000</td>\n",
       "      <td>1.000000</td>\n",
       "      <td>0.000000</td>\n",
       "      <td>0.000000</td>\n",
       "      <td>0.000000</td>\n",
       "      <td>0.000000</td>\n",
       "      <td>1.000000</td>\n",
       "      <td>0.000000</td>\n",
       "      <td>0.000000</td>\n",
       "      <td>0.000000</td>\n",
       "      <td>0.000000</td>\n",
       "      <td>0.000000</td>\n",
       "      <td>1.000000</td>\n",
       "      <td>0.000000</td>\n",
       "      <td>0.000000</td>\n",
       "      <td>0.000000</td>\n",
       "      <td>0.000000</td>\n",
       "      <td>0.000000</td>\n",
       "      <td>0.000000</td>\n",
       "      <td>0.000000</td>\n",
       "      <td>0.000000</td>\n",
       "      <td>0.000000</td>\n",
       "      <td>0.000000</td>\n",
       "      <td>0.000000</td>\n",
       "      <td>0.000000</td>\n",
       "    </tr>\n",
       "    <tr>\n",
       "      <th>75%</th>\n",
       "      <td>102.400000</td>\n",
       "      <td>183.100000</td>\n",
       "      <td>66.900000</td>\n",
       "      <td>55.500000</td>\n",
       "      <td>2935.000000</td>\n",
       "      <td>141.000000</td>\n",
       "      <td>3.580000</td>\n",
       "      <td>3.410000</td>\n",
       "      <td>9.400000</td>\n",
       "      <td>116.000000</td>\n",
       "      <td>5500.000000</td>\n",
       "      <td>30.000000</td>\n",
       "      <td>34.000000</td>\n",
       "      <td>16503.000000</td>\n",
       "      <td>0.000000</td>\n",
       "      <td>0.000000</td>\n",
       "      <td>1.000000</td>\n",
       "      <td>1.000000</td>\n",
       "      <td>0.000000</td>\n",
       "      <td>0.000000</td>\n",
       "      <td>0.000000</td>\n",
       "      <td>1.000000</td>\n",
       "      <td>1.000000</td>\n",
       "      <td>0.000000</td>\n",
       "      <td>1.000000</td>\n",
       "      <td>1.000000</td>\n",
       "      <td>0.000000</td>\n",
       "      <td>0.000000</td>\n",
       "      <td>1.000000</td>\n",
       "      <td>1.000000</td>\n",
       "      <td>0.000000</td>\n",
       "      <td>0.000000</td>\n",
       "      <td>1.000000</td>\n",
       "      <td>1.000000</td>\n",
       "      <td>1.000000</td>\n",
       "      <td>0.000000</td>\n",
       "      <td>0.000000</td>\n",
       "      <td>0.000000</td>\n",
       "      <td>0.000000</td>\n",
       "      <td>1.000000</td>\n",
       "      <td>0.000000</td>\n",
       "      <td>0.000000</td>\n",
       "      <td>0.000000</td>\n",
       "      <td>0.000000</td>\n",
       "      <td>0.000000</td>\n",
       "      <td>1.000000</td>\n",
       "      <td>0.000000</td>\n",
       "      <td>0.000000</td>\n",
       "      <td>0.000000</td>\n",
       "      <td>0.000000</td>\n",
       "      <td>0.000000</td>\n",
       "      <td>1.000000</td>\n",
       "      <td>0.000000</td>\n",
       "      <td>0.000000</td>\n",
       "      <td>0.000000</td>\n",
       "      <td>1.000000</td>\n",
       "      <td>0.000000</td>\n",
       "      <td>0.000000</td>\n",
       "    </tr>\n",
       "    <tr>\n",
       "      <th>max</th>\n",
       "      <td>120.900000</td>\n",
       "      <td>208.100000</td>\n",
       "      <td>72.300000</td>\n",
       "      <td>59.800000</td>\n",
       "      <td>4066.000000</td>\n",
       "      <td>326.000000</td>\n",
       "      <td>3.940000</td>\n",
       "      <td>4.170000</td>\n",
       "      <td>23.000000</td>\n",
       "      <td>288.000000</td>\n",
       "      <td>6600.000000</td>\n",
       "      <td>49.000000</td>\n",
       "      <td>54.000000</td>\n",
       "      <td>45400.000000</td>\n",
       "      <td>1.000000</td>\n",
       "      <td>1.000000</td>\n",
       "      <td>1.000000</td>\n",
       "      <td>1.000000</td>\n",
       "      <td>1.000000</td>\n",
       "      <td>1.000000</td>\n",
       "      <td>1.000000</td>\n",
       "      <td>1.000000</td>\n",
       "      <td>1.000000</td>\n",
       "      <td>1.000000</td>\n",
       "      <td>1.000000</td>\n",
       "      <td>1.000000</td>\n",
       "      <td>1.000000</td>\n",
       "      <td>1.000000</td>\n",
       "      <td>1.000000</td>\n",
       "      <td>1.000000</td>\n",
       "      <td>1.000000</td>\n",
       "      <td>1.000000</td>\n",
       "      <td>1.000000</td>\n",
       "      <td>1.000000</td>\n",
       "      <td>1.000000</td>\n",
       "      <td>1.000000</td>\n",
       "      <td>1.000000</td>\n",
       "      <td>1.000000</td>\n",
       "      <td>1.000000</td>\n",
       "      <td>1.000000</td>\n",
       "      <td>1.000000</td>\n",
       "      <td>1.000000</td>\n",
       "      <td>1.000000</td>\n",
       "      <td>1.000000</td>\n",
       "      <td>1.000000</td>\n",
       "      <td>1.000000</td>\n",
       "      <td>1.000000</td>\n",
       "      <td>1.000000</td>\n",
       "      <td>1.000000</td>\n",
       "      <td>1.000000</td>\n",
       "      <td>1.000000</td>\n",
       "      <td>1.000000</td>\n",
       "      <td>1.000000</td>\n",
       "      <td>1.000000</td>\n",
       "      <td>1.000000</td>\n",
       "      <td>1.000000</td>\n",
       "      <td>1.000000</td>\n",
       "      <td>1.000000</td>\n",
       "    </tr>\n",
       "  </tbody>\n",
       "</table>\n",
       "</div>"
      ],
      "text/plain": [
       "        wheelbase   carlength  ...  fuelsystem_spdi  fuelsystem_spfi\n",
       "count  205.000000  205.000000  ...       205.000000       205.000000\n",
       "mean    98.756585  174.049268  ...         0.043902         0.004878\n",
       "std      6.021776   12.337289  ...         0.205380         0.069843\n",
       "min     86.600000  141.100000  ...         0.000000         0.000000\n",
       "25%     94.500000  166.300000  ...         0.000000         0.000000\n",
       "50%     97.000000  173.200000  ...         0.000000         0.000000\n",
       "75%    102.400000  183.100000  ...         0.000000         0.000000\n",
       "max    120.900000  208.100000  ...         1.000000         1.000000\n",
       "\n",
       "[8 rows x 58 columns]"
      ]
     },
     "execution_count": 20,
     "metadata": {
      "tags": []
     },
     "output_type": "execute_result"
    }
   ],
   "source": [
    "#check statistical data to see abnormal values and outliers\n",
    "final_car.describe()"
   ]
  },
  {
   "cell_type": "code",
   "execution_count": 22,
   "metadata": {
    "executionInfo": {
     "elapsed": 1021,
     "status": "ok",
     "timestamp": 1618740756127,
     "user": {
      "displayName": "Muhammad Abdullah",
      "photoUrl": "https://lh3.googleusercontent.com/a-/AOh14GgzEqtifDXcGhaQ2OrGuwEdOYc5Oja8bXPgQjiT=s64",
      "userId": "11496234986057044171"
     },
     "user_tz": -300
    },
    "id": "BkvwSRSAdzfi"
   },
   "outputs": [],
   "source": [
    "#initialize a seed value so that each time we can get the same random number sequence, it will help us  as a team\n",
    "np.random.seed(11111)\n",
    "msk = np.random.rand(len(final_car)) < 0.72\n",
    "train_total = final_car[msk]\n",
    "test_total = final_car[~msk]"
   ]
  },
  {
   "cell_type": "code",
   "execution_count": 23,
   "metadata": {
    "colab": {
     "base_uri": "https://localhost:8080/"
    },
    "executionInfo": {
     "elapsed": 1002,
     "status": "ok",
     "timestamp": 1618740765929,
     "user": {
      "displayName": "Muhammad Abdullah",
      "photoUrl": "https://lh3.googleusercontent.com/a-/AOh14GgzEqtifDXcGhaQ2OrGuwEdOYc5Oja8bXPgQjiT=s64",
      "userId": "11496234986057044171"
     },
     "user_tz": -300
    },
    "id": "2ub25Xdkd3dI",
    "outputId": "8cc7ddb1-079e-4215-e417-851c45fe1a79"
   },
   "outputs": [
    {
     "name": "stdout",
     "output_type": "stream",
     "text": [
      "141\n",
      "64\n"
     ]
    }
   ],
   "source": [
    "#check the length of our test and train datasets\n",
    "print(len(train_total))\n",
    "print(len(test_total))"
   ]
  },
  {
   "cell_type": "code",
   "execution_count": 25,
   "metadata": {
    "colab": {
     "base_uri": "https://localhost:8080/",
     "height": 383
    },
    "executionInfo": {
     "elapsed": 1161,
     "status": "ok",
     "timestamp": 1618740780809,
     "user": {
      "displayName": "Muhammad Abdullah",
      "photoUrl": "https://lh3.googleusercontent.com/a-/AOh14GgzEqtifDXcGhaQ2OrGuwEdOYc5Oja8bXPgQjiT=s64",
      "userId": "11496234986057044171"
     },
     "user_tz": -300
    },
    "id": "wbO09ccKd-Cu",
    "outputId": "062f2cc8-a9b5-4ca3-8d73-845c30fdc199"
   },
   "outputs": [
    {
     "data": {
      "text/html": [
       "<div>\n",
       "<style scoped>\n",
       "    .dataframe tbody tr th:only-of-type {\n",
       "        vertical-align: middle;\n",
       "    }\n",
       "\n",
       "    .dataframe tbody tr th {\n",
       "        vertical-align: top;\n",
       "    }\n",
       "\n",
       "    .dataframe thead th {\n",
       "        text-align: right;\n",
       "    }\n",
       "</style>\n",
       "<table border=\"1\" class=\"dataframe\">\n",
       "  <thead>\n",
       "    <tr style=\"text-align: right;\">\n",
       "      <th></th>\n",
       "      <th>wheelbase</th>\n",
       "      <th>carlength</th>\n",
       "      <th>carwidth</th>\n",
       "      <th>carheight</th>\n",
       "      <th>curbweight</th>\n",
       "      <th>enginesize</th>\n",
       "      <th>boreratio</th>\n",
       "      <th>stroke</th>\n",
       "      <th>compressionratio</th>\n",
       "      <th>horsepower</th>\n",
       "      <th>peakrpm</th>\n",
       "      <th>citympg</th>\n",
       "      <th>highwaympg</th>\n",
       "      <th>price</th>\n",
       "      <th>symboling_-2</th>\n",
       "      <th>symboling_-1</th>\n",
       "      <th>symboling_0</th>\n",
       "      <th>symboling_1</th>\n",
       "      <th>symboling_2</th>\n",
       "      <th>symboling_3</th>\n",
       "      <th>fueltype_diesel</th>\n",
       "      <th>fueltype_gas</th>\n",
       "      <th>aspiration_std</th>\n",
       "      <th>aspiration_turbo</th>\n",
       "      <th>doornumber_four</th>\n",
       "      <th>doornumber_two</th>\n",
       "      <th>carbody_convertible</th>\n",
       "      <th>carbody_hardtop</th>\n",
       "      <th>carbody_hatchback</th>\n",
       "      <th>carbody_sedan</th>\n",
       "      <th>carbody_wagon</th>\n",
       "      <th>drivewheel_4wd</th>\n",
       "      <th>drivewheel_fwd</th>\n",
       "      <th>drivewheel_rwd</th>\n",
       "      <th>enginelocation_front</th>\n",
       "      <th>enginelocation_rear</th>\n",
       "      <th>enginetype_dohc</th>\n",
       "      <th>enginetype_dohcv</th>\n",
       "      <th>enginetype_l</th>\n",
       "      <th>enginetype_ohc</th>\n",
       "      <th>enginetype_ohcf</th>\n",
       "      <th>enginetype_ohcv</th>\n",
       "      <th>enginetype_rotor</th>\n",
       "      <th>cylindernumber_eight</th>\n",
       "      <th>cylindernumber_five</th>\n",
       "      <th>cylindernumber_four</th>\n",
       "      <th>cylindernumber_six</th>\n",
       "      <th>cylindernumber_three</th>\n",
       "      <th>cylindernumber_twelve</th>\n",
       "      <th>cylindernumber_two</th>\n",
       "      <th>fuelsystem_1bbl</th>\n",
       "      <th>fuelsystem_2bbl</th>\n",
       "      <th>fuelsystem_4bbl</th>\n",
       "      <th>fuelsystem_idi</th>\n",
       "      <th>fuelsystem_mfi</th>\n",
       "      <th>fuelsystem_mpfi</th>\n",
       "      <th>fuelsystem_spdi</th>\n",
       "      <th>fuelsystem_spfi</th>\n",
       "    </tr>\n",
       "  </thead>\n",
       "  <tbody>\n",
       "    <tr>\n",
       "      <th>1</th>\n",
       "      <td>88.6</td>\n",
       "      <td>168.8</td>\n",
       "      <td>64.1</td>\n",
       "      <td>48.8</td>\n",
       "      <td>2548</td>\n",
       "      <td>130</td>\n",
       "      <td>3.47</td>\n",
       "      <td>2.68</td>\n",
       "      <td>9.0</td>\n",
       "      <td>111</td>\n",
       "      <td>5000</td>\n",
       "      <td>21</td>\n",
       "      <td>27</td>\n",
       "      <td>16500.000</td>\n",
       "      <td>0</td>\n",
       "      <td>0</td>\n",
       "      <td>0</td>\n",
       "      <td>0</td>\n",
       "      <td>0</td>\n",
       "      <td>1</td>\n",
       "      <td>0</td>\n",
       "      <td>1</td>\n",
       "      <td>1</td>\n",
       "      <td>0</td>\n",
       "      <td>0</td>\n",
       "      <td>1</td>\n",
       "      <td>1</td>\n",
       "      <td>0</td>\n",
       "      <td>0</td>\n",
       "      <td>0</td>\n",
       "      <td>0</td>\n",
       "      <td>0</td>\n",
       "      <td>0</td>\n",
       "      <td>1</td>\n",
       "      <td>1</td>\n",
       "      <td>0</td>\n",
       "      <td>1</td>\n",
       "      <td>0</td>\n",
       "      <td>0</td>\n",
       "      <td>0</td>\n",
       "      <td>0</td>\n",
       "      <td>0</td>\n",
       "      <td>0</td>\n",
       "      <td>0</td>\n",
       "      <td>0</td>\n",
       "      <td>1</td>\n",
       "      <td>0</td>\n",
       "      <td>0</td>\n",
       "      <td>0</td>\n",
       "      <td>0</td>\n",
       "      <td>0</td>\n",
       "      <td>0</td>\n",
       "      <td>0</td>\n",
       "      <td>0</td>\n",
       "      <td>0</td>\n",
       "      <td>1</td>\n",
       "      <td>0</td>\n",
       "      <td>0</td>\n",
       "    </tr>\n",
       "    <tr>\n",
       "      <th>2</th>\n",
       "      <td>94.5</td>\n",
       "      <td>171.2</td>\n",
       "      <td>65.5</td>\n",
       "      <td>52.4</td>\n",
       "      <td>2823</td>\n",
       "      <td>152</td>\n",
       "      <td>2.68</td>\n",
       "      <td>3.47</td>\n",
       "      <td>9.0</td>\n",
       "      <td>154</td>\n",
       "      <td>5000</td>\n",
       "      <td>19</td>\n",
       "      <td>26</td>\n",
       "      <td>16500.000</td>\n",
       "      <td>0</td>\n",
       "      <td>0</td>\n",
       "      <td>0</td>\n",
       "      <td>1</td>\n",
       "      <td>0</td>\n",
       "      <td>0</td>\n",
       "      <td>0</td>\n",
       "      <td>1</td>\n",
       "      <td>1</td>\n",
       "      <td>0</td>\n",
       "      <td>0</td>\n",
       "      <td>1</td>\n",
       "      <td>0</td>\n",
       "      <td>0</td>\n",
       "      <td>1</td>\n",
       "      <td>0</td>\n",
       "      <td>0</td>\n",
       "      <td>0</td>\n",
       "      <td>0</td>\n",
       "      <td>1</td>\n",
       "      <td>1</td>\n",
       "      <td>0</td>\n",
       "      <td>0</td>\n",
       "      <td>0</td>\n",
       "      <td>0</td>\n",
       "      <td>0</td>\n",
       "      <td>0</td>\n",
       "      <td>1</td>\n",
       "      <td>0</td>\n",
       "      <td>0</td>\n",
       "      <td>0</td>\n",
       "      <td>0</td>\n",
       "      <td>1</td>\n",
       "      <td>0</td>\n",
       "      <td>0</td>\n",
       "      <td>0</td>\n",
       "      <td>0</td>\n",
       "      <td>0</td>\n",
       "      <td>0</td>\n",
       "      <td>0</td>\n",
       "      <td>0</td>\n",
       "      <td>1</td>\n",
       "      <td>0</td>\n",
       "      <td>0</td>\n",
       "    </tr>\n",
       "    <tr>\n",
       "      <th>3</th>\n",
       "      <td>99.8</td>\n",
       "      <td>176.6</td>\n",
       "      <td>66.2</td>\n",
       "      <td>54.3</td>\n",
       "      <td>2337</td>\n",
       "      <td>109</td>\n",
       "      <td>3.19</td>\n",
       "      <td>3.40</td>\n",
       "      <td>10.0</td>\n",
       "      <td>102</td>\n",
       "      <td>5500</td>\n",
       "      <td>24</td>\n",
       "      <td>30</td>\n",
       "      <td>13950.000</td>\n",
       "      <td>0</td>\n",
       "      <td>0</td>\n",
       "      <td>0</td>\n",
       "      <td>0</td>\n",
       "      <td>1</td>\n",
       "      <td>0</td>\n",
       "      <td>0</td>\n",
       "      <td>1</td>\n",
       "      <td>1</td>\n",
       "      <td>0</td>\n",
       "      <td>1</td>\n",
       "      <td>0</td>\n",
       "      <td>0</td>\n",
       "      <td>0</td>\n",
       "      <td>0</td>\n",
       "      <td>1</td>\n",
       "      <td>0</td>\n",
       "      <td>0</td>\n",
       "      <td>1</td>\n",
       "      <td>0</td>\n",
       "      <td>1</td>\n",
       "      <td>0</td>\n",
       "      <td>0</td>\n",
       "      <td>0</td>\n",
       "      <td>0</td>\n",
       "      <td>1</td>\n",
       "      <td>0</td>\n",
       "      <td>0</td>\n",
       "      <td>0</td>\n",
       "      <td>0</td>\n",
       "      <td>0</td>\n",
       "      <td>1</td>\n",
       "      <td>0</td>\n",
       "      <td>0</td>\n",
       "      <td>0</td>\n",
       "      <td>0</td>\n",
       "      <td>0</td>\n",
       "      <td>0</td>\n",
       "      <td>0</td>\n",
       "      <td>0</td>\n",
       "      <td>0</td>\n",
       "      <td>1</td>\n",
       "      <td>0</td>\n",
       "      <td>0</td>\n",
       "    </tr>\n",
       "    <tr>\n",
       "      <th>4</th>\n",
       "      <td>99.4</td>\n",
       "      <td>176.6</td>\n",
       "      <td>66.4</td>\n",
       "      <td>54.3</td>\n",
       "      <td>2824</td>\n",
       "      <td>136</td>\n",
       "      <td>3.19</td>\n",
       "      <td>3.40</td>\n",
       "      <td>8.0</td>\n",
       "      <td>115</td>\n",
       "      <td>5500</td>\n",
       "      <td>18</td>\n",
       "      <td>22</td>\n",
       "      <td>17450.000</td>\n",
       "      <td>0</td>\n",
       "      <td>0</td>\n",
       "      <td>0</td>\n",
       "      <td>0</td>\n",
       "      <td>1</td>\n",
       "      <td>0</td>\n",
       "      <td>0</td>\n",
       "      <td>1</td>\n",
       "      <td>1</td>\n",
       "      <td>0</td>\n",
       "      <td>1</td>\n",
       "      <td>0</td>\n",
       "      <td>0</td>\n",
       "      <td>0</td>\n",
       "      <td>0</td>\n",
       "      <td>1</td>\n",
       "      <td>0</td>\n",
       "      <td>1</td>\n",
       "      <td>0</td>\n",
       "      <td>0</td>\n",
       "      <td>1</td>\n",
       "      <td>0</td>\n",
       "      <td>0</td>\n",
       "      <td>0</td>\n",
       "      <td>0</td>\n",
       "      <td>1</td>\n",
       "      <td>0</td>\n",
       "      <td>0</td>\n",
       "      <td>0</td>\n",
       "      <td>0</td>\n",
       "      <td>1</td>\n",
       "      <td>0</td>\n",
       "      <td>0</td>\n",
       "      <td>0</td>\n",
       "      <td>0</td>\n",
       "      <td>0</td>\n",
       "      <td>0</td>\n",
       "      <td>0</td>\n",
       "      <td>0</td>\n",
       "      <td>0</td>\n",
       "      <td>0</td>\n",
       "      <td>1</td>\n",
       "      <td>0</td>\n",
       "      <td>0</td>\n",
       "    </tr>\n",
       "    <tr>\n",
       "      <th>5</th>\n",
       "      <td>99.8</td>\n",
       "      <td>177.3</td>\n",
       "      <td>66.3</td>\n",
       "      <td>53.1</td>\n",
       "      <td>2507</td>\n",
       "      <td>136</td>\n",
       "      <td>3.19</td>\n",
       "      <td>3.40</td>\n",
       "      <td>8.5</td>\n",
       "      <td>110</td>\n",
       "      <td>5500</td>\n",
       "      <td>19</td>\n",
       "      <td>25</td>\n",
       "      <td>15250.000</td>\n",
       "      <td>0</td>\n",
       "      <td>0</td>\n",
       "      <td>0</td>\n",
       "      <td>0</td>\n",
       "      <td>1</td>\n",
       "      <td>0</td>\n",
       "      <td>0</td>\n",
       "      <td>1</td>\n",
       "      <td>1</td>\n",
       "      <td>0</td>\n",
       "      <td>0</td>\n",
       "      <td>1</td>\n",
       "      <td>0</td>\n",
       "      <td>0</td>\n",
       "      <td>0</td>\n",
       "      <td>1</td>\n",
       "      <td>0</td>\n",
       "      <td>0</td>\n",
       "      <td>1</td>\n",
       "      <td>0</td>\n",
       "      <td>1</td>\n",
       "      <td>0</td>\n",
       "      <td>0</td>\n",
       "      <td>0</td>\n",
       "      <td>0</td>\n",
       "      <td>1</td>\n",
       "      <td>0</td>\n",
       "      <td>0</td>\n",
       "      <td>0</td>\n",
       "      <td>0</td>\n",
       "      <td>1</td>\n",
       "      <td>0</td>\n",
       "      <td>0</td>\n",
       "      <td>0</td>\n",
       "      <td>0</td>\n",
       "      <td>0</td>\n",
       "      <td>0</td>\n",
       "      <td>0</td>\n",
       "      <td>0</td>\n",
       "      <td>0</td>\n",
       "      <td>0</td>\n",
       "      <td>1</td>\n",
       "      <td>0</td>\n",
       "      <td>0</td>\n",
       "    </tr>\n",
       "    <tr>\n",
       "      <th>6</th>\n",
       "      <td>105.8</td>\n",
       "      <td>192.7</td>\n",
       "      <td>71.4</td>\n",
       "      <td>55.7</td>\n",
       "      <td>2844</td>\n",
       "      <td>136</td>\n",
       "      <td>3.19</td>\n",
       "      <td>3.40</td>\n",
       "      <td>8.5</td>\n",
       "      <td>110</td>\n",
       "      <td>5500</td>\n",
       "      <td>19</td>\n",
       "      <td>25</td>\n",
       "      <td>17710.000</td>\n",
       "      <td>0</td>\n",
       "      <td>0</td>\n",
       "      <td>0</td>\n",
       "      <td>1</td>\n",
       "      <td>0</td>\n",
       "      <td>0</td>\n",
       "      <td>0</td>\n",
       "      <td>1</td>\n",
       "      <td>1</td>\n",
       "      <td>0</td>\n",
       "      <td>1</td>\n",
       "      <td>0</td>\n",
       "      <td>0</td>\n",
       "      <td>0</td>\n",
       "      <td>0</td>\n",
       "      <td>1</td>\n",
       "      <td>0</td>\n",
       "      <td>0</td>\n",
       "      <td>1</td>\n",
       "      <td>0</td>\n",
       "      <td>1</td>\n",
       "      <td>0</td>\n",
       "      <td>0</td>\n",
       "      <td>0</td>\n",
       "      <td>0</td>\n",
       "      <td>1</td>\n",
       "      <td>0</td>\n",
       "      <td>0</td>\n",
       "      <td>0</td>\n",
       "      <td>0</td>\n",
       "      <td>1</td>\n",
       "      <td>0</td>\n",
       "      <td>0</td>\n",
       "      <td>0</td>\n",
       "      <td>0</td>\n",
       "      <td>0</td>\n",
       "      <td>0</td>\n",
       "      <td>0</td>\n",
       "      <td>0</td>\n",
       "      <td>0</td>\n",
       "      <td>0</td>\n",
       "      <td>1</td>\n",
       "      <td>0</td>\n",
       "      <td>0</td>\n",
       "    </tr>\n",
       "    <tr>\n",
       "      <th>7</th>\n",
       "      <td>105.8</td>\n",
       "      <td>192.7</td>\n",
       "      <td>71.4</td>\n",
       "      <td>55.7</td>\n",
       "      <td>2954</td>\n",
       "      <td>136</td>\n",
       "      <td>3.19</td>\n",
       "      <td>3.40</td>\n",
       "      <td>8.5</td>\n",
       "      <td>110</td>\n",
       "      <td>5500</td>\n",
       "      <td>19</td>\n",
       "      <td>25</td>\n",
       "      <td>18920.000</td>\n",
       "      <td>0</td>\n",
       "      <td>0</td>\n",
       "      <td>0</td>\n",
       "      <td>1</td>\n",
       "      <td>0</td>\n",
       "      <td>0</td>\n",
       "      <td>0</td>\n",
       "      <td>1</td>\n",
       "      <td>1</td>\n",
       "      <td>0</td>\n",
       "      <td>1</td>\n",
       "      <td>0</td>\n",
       "      <td>0</td>\n",
       "      <td>0</td>\n",
       "      <td>0</td>\n",
       "      <td>0</td>\n",
       "      <td>1</td>\n",
       "      <td>0</td>\n",
       "      <td>1</td>\n",
       "      <td>0</td>\n",
       "      <td>1</td>\n",
       "      <td>0</td>\n",
       "      <td>0</td>\n",
       "      <td>0</td>\n",
       "      <td>0</td>\n",
       "      <td>1</td>\n",
       "      <td>0</td>\n",
       "      <td>0</td>\n",
       "      <td>0</td>\n",
       "      <td>0</td>\n",
       "      <td>1</td>\n",
       "      <td>0</td>\n",
       "      <td>0</td>\n",
       "      <td>0</td>\n",
       "      <td>0</td>\n",
       "      <td>0</td>\n",
       "      <td>0</td>\n",
       "      <td>0</td>\n",
       "      <td>0</td>\n",
       "      <td>0</td>\n",
       "      <td>0</td>\n",
       "      <td>1</td>\n",
       "      <td>0</td>\n",
       "      <td>0</td>\n",
       "    </tr>\n",
       "    <tr>\n",
       "      <th>8</th>\n",
       "      <td>105.8</td>\n",
       "      <td>192.7</td>\n",
       "      <td>71.4</td>\n",
       "      <td>55.9</td>\n",
       "      <td>3086</td>\n",
       "      <td>131</td>\n",
       "      <td>3.13</td>\n",
       "      <td>3.40</td>\n",
       "      <td>8.3</td>\n",
       "      <td>140</td>\n",
       "      <td>5500</td>\n",
       "      <td>17</td>\n",
       "      <td>20</td>\n",
       "      <td>23875.000</td>\n",
       "      <td>0</td>\n",
       "      <td>0</td>\n",
       "      <td>0</td>\n",
       "      <td>1</td>\n",
       "      <td>0</td>\n",
       "      <td>0</td>\n",
       "      <td>0</td>\n",
       "      <td>1</td>\n",
       "      <td>0</td>\n",
       "      <td>1</td>\n",
       "      <td>1</td>\n",
       "      <td>0</td>\n",
       "      <td>0</td>\n",
       "      <td>0</td>\n",
       "      <td>0</td>\n",
       "      <td>1</td>\n",
       "      <td>0</td>\n",
       "      <td>0</td>\n",
       "      <td>1</td>\n",
       "      <td>0</td>\n",
       "      <td>1</td>\n",
       "      <td>0</td>\n",
       "      <td>0</td>\n",
       "      <td>0</td>\n",
       "      <td>0</td>\n",
       "      <td>1</td>\n",
       "      <td>0</td>\n",
       "      <td>0</td>\n",
       "      <td>0</td>\n",
       "      <td>0</td>\n",
       "      <td>1</td>\n",
       "      <td>0</td>\n",
       "      <td>0</td>\n",
       "      <td>0</td>\n",
       "      <td>0</td>\n",
       "      <td>0</td>\n",
       "      <td>0</td>\n",
       "      <td>0</td>\n",
       "      <td>0</td>\n",
       "      <td>0</td>\n",
       "      <td>0</td>\n",
       "      <td>1</td>\n",
       "      <td>0</td>\n",
       "      <td>0</td>\n",
       "    </tr>\n",
       "    <tr>\n",
       "      <th>9</th>\n",
       "      <td>99.5</td>\n",
       "      <td>178.2</td>\n",
       "      <td>67.9</td>\n",
       "      <td>52.0</td>\n",
       "      <td>3053</td>\n",
       "      <td>131</td>\n",
       "      <td>3.13</td>\n",
       "      <td>3.40</td>\n",
       "      <td>7.0</td>\n",
       "      <td>160</td>\n",
       "      <td>5500</td>\n",
       "      <td>16</td>\n",
       "      <td>22</td>\n",
       "      <td>17859.167</td>\n",
       "      <td>0</td>\n",
       "      <td>0</td>\n",
       "      <td>1</td>\n",
       "      <td>0</td>\n",
       "      <td>0</td>\n",
       "      <td>0</td>\n",
       "      <td>0</td>\n",
       "      <td>1</td>\n",
       "      <td>0</td>\n",
       "      <td>1</td>\n",
       "      <td>0</td>\n",
       "      <td>1</td>\n",
       "      <td>0</td>\n",
       "      <td>0</td>\n",
       "      <td>1</td>\n",
       "      <td>0</td>\n",
       "      <td>0</td>\n",
       "      <td>1</td>\n",
       "      <td>0</td>\n",
       "      <td>0</td>\n",
       "      <td>1</td>\n",
       "      <td>0</td>\n",
       "      <td>0</td>\n",
       "      <td>0</td>\n",
       "      <td>0</td>\n",
       "      <td>1</td>\n",
       "      <td>0</td>\n",
       "      <td>0</td>\n",
       "      <td>0</td>\n",
       "      <td>0</td>\n",
       "      <td>1</td>\n",
       "      <td>0</td>\n",
       "      <td>0</td>\n",
       "      <td>0</td>\n",
       "      <td>0</td>\n",
       "      <td>0</td>\n",
       "      <td>0</td>\n",
       "      <td>0</td>\n",
       "      <td>0</td>\n",
       "      <td>0</td>\n",
       "      <td>0</td>\n",
       "      <td>1</td>\n",
       "      <td>0</td>\n",
       "      <td>0</td>\n",
       "    </tr>\n",
       "    <tr>\n",
       "      <th>11</th>\n",
       "      <td>101.2</td>\n",
       "      <td>176.8</td>\n",
       "      <td>64.8</td>\n",
       "      <td>54.3</td>\n",
       "      <td>2395</td>\n",
       "      <td>108</td>\n",
       "      <td>3.50</td>\n",
       "      <td>2.80</td>\n",
       "      <td>8.8</td>\n",
       "      <td>101</td>\n",
       "      <td>5800</td>\n",
       "      <td>23</td>\n",
       "      <td>29</td>\n",
       "      <td>16925.000</td>\n",
       "      <td>0</td>\n",
       "      <td>0</td>\n",
       "      <td>1</td>\n",
       "      <td>0</td>\n",
       "      <td>0</td>\n",
       "      <td>0</td>\n",
       "      <td>0</td>\n",
       "      <td>1</td>\n",
       "      <td>1</td>\n",
       "      <td>0</td>\n",
       "      <td>1</td>\n",
       "      <td>0</td>\n",
       "      <td>0</td>\n",
       "      <td>0</td>\n",
       "      <td>0</td>\n",
       "      <td>1</td>\n",
       "      <td>0</td>\n",
       "      <td>0</td>\n",
       "      <td>0</td>\n",
       "      <td>1</td>\n",
       "      <td>1</td>\n",
       "      <td>0</td>\n",
       "      <td>0</td>\n",
       "      <td>0</td>\n",
       "      <td>0</td>\n",
       "      <td>1</td>\n",
       "      <td>0</td>\n",
       "      <td>0</td>\n",
       "      <td>0</td>\n",
       "      <td>0</td>\n",
       "      <td>0</td>\n",
       "      <td>1</td>\n",
       "      <td>0</td>\n",
       "      <td>0</td>\n",
       "      <td>0</td>\n",
       "      <td>0</td>\n",
       "      <td>0</td>\n",
       "      <td>0</td>\n",
       "      <td>0</td>\n",
       "      <td>0</td>\n",
       "      <td>0</td>\n",
       "      <td>1</td>\n",
       "      <td>0</td>\n",
       "      <td>0</td>\n",
       "    </tr>\n",
       "  </tbody>\n",
       "</table>\n",
       "</div>"
      ],
      "text/plain": [
       "    wheelbase  carlength  ...  fuelsystem_spdi  fuelsystem_spfi\n",
       "1        88.6      168.8  ...                0                0\n",
       "2        94.5      171.2  ...                0                0\n",
       "3        99.8      176.6  ...                0                0\n",
       "4        99.4      176.6  ...                0                0\n",
       "5        99.8      177.3  ...                0                0\n",
       "6       105.8      192.7  ...                0                0\n",
       "7       105.8      192.7  ...                0                0\n",
       "8       105.8      192.7  ...                0                0\n",
       "9        99.5      178.2  ...                0                0\n",
       "11      101.2      176.8  ...                0                0\n",
       "\n",
       "[10 rows x 58 columns]"
      ]
     },
     "execution_count": 25,
     "metadata": {
      "tags": []
     },
     "output_type": "execute_result"
    }
   ],
   "source": [
    "train_total.head(10)"
   ]
  },
  {
   "cell_type": "code",
   "execution_count": 26,
   "metadata": {
    "colab": {
     "base_uri": "https://localhost:8080/",
     "height": 320
    },
    "executionInfo": {
     "elapsed": 991,
     "status": "ok",
     "timestamp": 1618740799508,
     "user": {
      "displayName": "Muhammad Abdullah",
      "photoUrl": "https://lh3.googleusercontent.com/a-/AOh14GgzEqtifDXcGhaQ2OrGuwEdOYc5Oja8bXPgQjiT=s64",
      "userId": "11496234986057044171"
     },
     "user_tz": -300
    },
    "id": "vsy-gNppd_qM",
    "outputId": "8e19423e-e59b-4602-9c16-d0ac2a3a6735"
   },
   "outputs": [
    {
     "data": {
      "text/html": [
       "<div>\n",
       "<style scoped>\n",
       "    .dataframe tbody tr th:only-of-type {\n",
       "        vertical-align: middle;\n",
       "    }\n",
       "\n",
       "    .dataframe tbody tr th {\n",
       "        vertical-align: top;\n",
       "    }\n",
       "\n",
       "    .dataframe thead th {\n",
       "        text-align: right;\n",
       "    }\n",
       "</style>\n",
       "<table border=\"1\" class=\"dataframe\">\n",
       "  <thead>\n",
       "    <tr style=\"text-align: right;\">\n",
       "      <th></th>\n",
       "      <th>wheelbase</th>\n",
       "      <th>carlength</th>\n",
       "      <th>carwidth</th>\n",
       "      <th>carheight</th>\n",
       "      <th>curbweight</th>\n",
       "      <th>enginesize</th>\n",
       "      <th>boreratio</th>\n",
       "      <th>stroke</th>\n",
       "      <th>compressionratio</th>\n",
       "      <th>horsepower</th>\n",
       "      <th>peakrpm</th>\n",
       "      <th>citympg</th>\n",
       "      <th>highwaympg</th>\n",
       "      <th>price</th>\n",
       "      <th>symboling_-2</th>\n",
       "      <th>symboling_-1</th>\n",
       "      <th>symboling_0</th>\n",
       "      <th>symboling_1</th>\n",
       "      <th>symboling_2</th>\n",
       "      <th>symboling_3</th>\n",
       "      <th>fueltype_diesel</th>\n",
       "      <th>fueltype_gas</th>\n",
       "      <th>aspiration_std</th>\n",
       "      <th>aspiration_turbo</th>\n",
       "      <th>doornumber_four</th>\n",
       "      <th>doornumber_two</th>\n",
       "      <th>carbody_convertible</th>\n",
       "      <th>carbody_hardtop</th>\n",
       "      <th>carbody_hatchback</th>\n",
       "      <th>carbody_sedan</th>\n",
       "      <th>carbody_wagon</th>\n",
       "      <th>drivewheel_4wd</th>\n",
       "      <th>drivewheel_fwd</th>\n",
       "      <th>drivewheel_rwd</th>\n",
       "      <th>enginelocation_front</th>\n",
       "      <th>enginelocation_rear</th>\n",
       "      <th>enginetype_dohc</th>\n",
       "      <th>enginetype_dohcv</th>\n",
       "      <th>enginetype_l</th>\n",
       "      <th>enginetype_ohc</th>\n",
       "      <th>enginetype_ohcf</th>\n",
       "      <th>enginetype_ohcv</th>\n",
       "      <th>enginetype_rotor</th>\n",
       "      <th>cylindernumber_eight</th>\n",
       "      <th>cylindernumber_five</th>\n",
       "      <th>cylindernumber_four</th>\n",
       "      <th>cylindernumber_six</th>\n",
       "      <th>cylindernumber_three</th>\n",
       "      <th>cylindernumber_twelve</th>\n",
       "      <th>cylindernumber_two</th>\n",
       "      <th>fuelsystem_1bbl</th>\n",
       "      <th>fuelsystem_2bbl</th>\n",
       "      <th>fuelsystem_4bbl</th>\n",
       "      <th>fuelsystem_idi</th>\n",
       "      <th>fuelsystem_mfi</th>\n",
       "      <th>fuelsystem_mpfi</th>\n",
       "      <th>fuelsystem_spdi</th>\n",
       "      <th>fuelsystem_spfi</th>\n",
       "    </tr>\n",
       "  </thead>\n",
       "  <tbody>\n",
       "    <tr>\n",
       "      <th>count</th>\n",
       "      <td>141.000000</td>\n",
       "      <td>141.000000</td>\n",
       "      <td>141.000000</td>\n",
       "      <td>141.000000</td>\n",
       "      <td>141.000000</td>\n",
       "      <td>141.000000</td>\n",
       "      <td>141.000000</td>\n",
       "      <td>141.000000</td>\n",
       "      <td>141.000000</td>\n",
       "      <td>141.000000</td>\n",
       "      <td>141.000000</td>\n",
       "      <td>141.000000</td>\n",
       "      <td>141.000000</td>\n",
       "      <td>141.000000</td>\n",
       "      <td>141.0</td>\n",
       "      <td>141.000000</td>\n",
       "      <td>141.000000</td>\n",
       "      <td>141.000000</td>\n",
       "      <td>141.000000</td>\n",
       "      <td>141.000000</td>\n",
       "      <td>141.000000</td>\n",
       "      <td>141.000000</td>\n",
       "      <td>141.000000</td>\n",
       "      <td>141.000000</td>\n",
       "      <td>141.000000</td>\n",
       "      <td>141.000000</td>\n",
       "      <td>141.000000</td>\n",
       "      <td>141.000000</td>\n",
       "      <td>141.000000</td>\n",
       "      <td>141.000000</td>\n",
       "      <td>141.00000</td>\n",
       "      <td>141.000000</td>\n",
       "      <td>141.000000</td>\n",
       "      <td>141.000000</td>\n",
       "      <td>141.000000</td>\n",
       "      <td>141.000000</td>\n",
       "      <td>141.000000</td>\n",
       "      <td>141.0</td>\n",
       "      <td>141.000000</td>\n",
       "      <td>141.000000</td>\n",
       "      <td>141.000000</td>\n",
       "      <td>141.000000</td>\n",
       "      <td>141.000000</td>\n",
       "      <td>141.000000</td>\n",
       "      <td>141.000000</td>\n",
       "      <td>141.000000</td>\n",
       "      <td>141.000000</td>\n",
       "      <td>141.0</td>\n",
       "      <td>141.000000</td>\n",
       "      <td>141.000000</td>\n",
       "      <td>141.000000</td>\n",
       "      <td>141.000000</td>\n",
       "      <td>141.000000</td>\n",
       "      <td>141.000000</td>\n",
       "      <td>141.000000</td>\n",
       "      <td>141.000000</td>\n",
       "      <td>141.000000</td>\n",
       "      <td>141.000000</td>\n",
       "    </tr>\n",
       "    <tr>\n",
       "      <th>mean</th>\n",
       "      <td>98.692199</td>\n",
       "      <td>173.658156</td>\n",
       "      <td>65.875887</td>\n",
       "      <td>53.648227</td>\n",
       "      <td>2546.787234</td>\n",
       "      <td>125.666667</td>\n",
       "      <td>3.324184</td>\n",
       "      <td>3.256809</td>\n",
       "      <td>10.070355</td>\n",
       "      <td>103.702128</td>\n",
       "      <td>5143.971631</td>\n",
       "      <td>25.113475</td>\n",
       "      <td>30.581560</td>\n",
       "      <td>13379.132390</td>\n",
       "      <td>0.0</td>\n",
       "      <td>0.120567</td>\n",
       "      <td>0.304965</td>\n",
       "      <td>0.276596</td>\n",
       "      <td>0.156028</td>\n",
       "      <td>0.141844</td>\n",
       "      <td>0.092199</td>\n",
       "      <td>0.907801</td>\n",
       "      <td>0.801418</td>\n",
       "      <td>0.198582</td>\n",
       "      <td>0.553191</td>\n",
       "      <td>0.446809</td>\n",
       "      <td>0.035461</td>\n",
       "      <td>0.042553</td>\n",
       "      <td>0.347518</td>\n",
       "      <td>0.446809</td>\n",
       "      <td>0.12766</td>\n",
       "      <td>0.056738</td>\n",
       "      <td>0.581560</td>\n",
       "      <td>0.361702</td>\n",
       "      <td>0.985816</td>\n",
       "      <td>0.014184</td>\n",
       "      <td>0.063830</td>\n",
       "      <td>0.0</td>\n",
       "      <td>0.049645</td>\n",
       "      <td>0.723404</td>\n",
       "      <td>0.078014</td>\n",
       "      <td>0.056738</td>\n",
       "      <td>0.028369</td>\n",
       "      <td>0.014184</td>\n",
       "      <td>0.063830</td>\n",
       "      <td>0.765957</td>\n",
       "      <td>0.120567</td>\n",
       "      <td>0.0</td>\n",
       "      <td>0.007092</td>\n",
       "      <td>0.028369</td>\n",
       "      <td>0.056738</td>\n",
       "      <td>0.326241</td>\n",
       "      <td>0.021277</td>\n",
       "      <td>0.092199</td>\n",
       "      <td>0.007092</td>\n",
       "      <td>0.453901</td>\n",
       "      <td>0.035461</td>\n",
       "      <td>0.007092</td>\n",
       "    </tr>\n",
       "    <tr>\n",
       "      <th>std</th>\n",
       "      <td>6.005665</td>\n",
       "      <td>12.320089</td>\n",
       "      <td>2.188604</td>\n",
       "      <td>2.508204</td>\n",
       "      <td>529.769152</td>\n",
       "      <td>41.733451</td>\n",
       "      <td>0.266123</td>\n",
       "      <td>0.296387</td>\n",
       "      <td>3.868579</td>\n",
       "      <td>38.424275</td>\n",
       "      <td>474.472458</td>\n",
       "      <td>6.509435</td>\n",
       "      <td>6.734937</td>\n",
       "      <td>8189.494568</td>\n",
       "      <td>0.0</td>\n",
       "      <td>0.326785</td>\n",
       "      <td>0.462034</td>\n",
       "      <td>0.448910</td>\n",
       "      <td>0.364176</td>\n",
       "      <td>0.350134</td>\n",
       "      <td>0.290337</td>\n",
       "      <td>0.290337</td>\n",
       "      <td>0.400354</td>\n",
       "      <td>0.400354</td>\n",
       "      <td>0.498935</td>\n",
       "      <td>0.498935</td>\n",
       "      <td>0.185601</td>\n",
       "      <td>0.202567</td>\n",
       "      <td>0.477879</td>\n",
       "      <td>0.498935</td>\n",
       "      <td>0.33490</td>\n",
       "      <td>0.232165</td>\n",
       "      <td>0.495062</td>\n",
       "      <td>0.482206</td>\n",
       "      <td>0.118672</td>\n",
       "      <td>0.118672</td>\n",
       "      <td>0.245321</td>\n",
       "      <td>0.0</td>\n",
       "      <td>0.217986</td>\n",
       "      <td>0.448910</td>\n",
       "      <td>0.269150</td>\n",
       "      <td>0.232165</td>\n",
       "      <td>0.166616</td>\n",
       "      <td>0.118672</td>\n",
       "      <td>0.245321</td>\n",
       "      <td>0.424908</td>\n",
       "      <td>0.326785</td>\n",
       "      <td>0.0</td>\n",
       "      <td>0.084215</td>\n",
       "      <td>0.166616</td>\n",
       "      <td>0.232165</td>\n",
       "      <td>0.470508</td>\n",
       "      <td>0.144819</td>\n",
       "      <td>0.290337</td>\n",
       "      <td>0.084215</td>\n",
       "      <td>0.499645</td>\n",
       "      <td>0.185601</td>\n",
       "      <td>0.084215</td>\n",
       "    </tr>\n",
       "    <tr>\n",
       "      <th>min</th>\n",
       "      <td>86.600000</td>\n",
       "      <td>144.600000</td>\n",
       "      <td>61.800000</td>\n",
       "      <td>47.800000</td>\n",
       "      <td>1713.000000</td>\n",
       "      <td>70.000000</td>\n",
       "      <td>2.680000</td>\n",
       "      <td>2.190000</td>\n",
       "      <td>7.000000</td>\n",
       "      <td>55.000000</td>\n",
       "      <td>4150.000000</td>\n",
       "      <td>13.000000</td>\n",
       "      <td>16.000000</td>\n",
       "      <td>5118.000000</td>\n",
       "      <td>0.0</td>\n",
       "      <td>0.000000</td>\n",
       "      <td>0.000000</td>\n",
       "      <td>0.000000</td>\n",
       "      <td>0.000000</td>\n",
       "      <td>0.000000</td>\n",
       "      <td>0.000000</td>\n",
       "      <td>0.000000</td>\n",
       "      <td>0.000000</td>\n",
       "      <td>0.000000</td>\n",
       "      <td>0.000000</td>\n",
       "      <td>0.000000</td>\n",
       "      <td>0.000000</td>\n",
       "      <td>0.000000</td>\n",
       "      <td>0.000000</td>\n",
       "      <td>0.000000</td>\n",
       "      <td>0.00000</td>\n",
       "      <td>0.000000</td>\n",
       "      <td>0.000000</td>\n",
       "      <td>0.000000</td>\n",
       "      <td>0.000000</td>\n",
       "      <td>0.000000</td>\n",
       "      <td>0.000000</td>\n",
       "      <td>0.0</td>\n",
       "      <td>0.000000</td>\n",
       "      <td>0.000000</td>\n",
       "      <td>0.000000</td>\n",
       "      <td>0.000000</td>\n",
       "      <td>0.000000</td>\n",
       "      <td>0.000000</td>\n",
       "      <td>0.000000</td>\n",
       "      <td>0.000000</td>\n",
       "      <td>0.000000</td>\n",
       "      <td>0.0</td>\n",
       "      <td>0.000000</td>\n",
       "      <td>0.000000</td>\n",
       "      <td>0.000000</td>\n",
       "      <td>0.000000</td>\n",
       "      <td>0.000000</td>\n",
       "      <td>0.000000</td>\n",
       "      <td>0.000000</td>\n",
       "      <td>0.000000</td>\n",
       "      <td>0.000000</td>\n",
       "      <td>0.000000</td>\n",
       "    </tr>\n",
       "    <tr>\n",
       "      <th>25%</th>\n",
       "      <td>94.500000</td>\n",
       "      <td>166.300000</td>\n",
       "      <td>64.000000</td>\n",
       "      <td>51.600000</td>\n",
       "      <td>2128.000000</td>\n",
       "      <td>97.000000</td>\n",
       "      <td>3.150000</td>\n",
       "      <td>3.150000</td>\n",
       "      <td>8.500000</td>\n",
       "      <td>70.000000</td>\n",
       "      <td>4800.000000</td>\n",
       "      <td>19.000000</td>\n",
       "      <td>25.000000</td>\n",
       "      <td>7689.000000</td>\n",
       "      <td>0.0</td>\n",
       "      <td>0.000000</td>\n",
       "      <td>0.000000</td>\n",
       "      <td>0.000000</td>\n",
       "      <td>0.000000</td>\n",
       "      <td>0.000000</td>\n",
       "      <td>0.000000</td>\n",
       "      <td>1.000000</td>\n",
       "      <td>1.000000</td>\n",
       "      <td>0.000000</td>\n",
       "      <td>0.000000</td>\n",
       "      <td>0.000000</td>\n",
       "      <td>0.000000</td>\n",
       "      <td>0.000000</td>\n",
       "      <td>0.000000</td>\n",
       "      <td>0.000000</td>\n",
       "      <td>0.00000</td>\n",
       "      <td>0.000000</td>\n",
       "      <td>0.000000</td>\n",
       "      <td>0.000000</td>\n",
       "      <td>1.000000</td>\n",
       "      <td>0.000000</td>\n",
       "      <td>0.000000</td>\n",
       "      <td>0.0</td>\n",
       "      <td>0.000000</td>\n",
       "      <td>0.000000</td>\n",
       "      <td>0.000000</td>\n",
       "      <td>0.000000</td>\n",
       "      <td>0.000000</td>\n",
       "      <td>0.000000</td>\n",
       "      <td>0.000000</td>\n",
       "      <td>1.000000</td>\n",
       "      <td>0.000000</td>\n",
       "      <td>0.0</td>\n",
       "      <td>0.000000</td>\n",
       "      <td>0.000000</td>\n",
       "      <td>0.000000</td>\n",
       "      <td>0.000000</td>\n",
       "      <td>0.000000</td>\n",
       "      <td>0.000000</td>\n",
       "      <td>0.000000</td>\n",
       "      <td>0.000000</td>\n",
       "      <td>0.000000</td>\n",
       "      <td>0.000000</td>\n",
       "    </tr>\n",
       "    <tr>\n",
       "      <th>50%</th>\n",
       "      <td>96.500000</td>\n",
       "      <td>172.400000</td>\n",
       "      <td>65.400000</td>\n",
       "      <td>53.900000</td>\n",
       "      <td>2410.000000</td>\n",
       "      <td>110.000000</td>\n",
       "      <td>3.310000</td>\n",
       "      <td>3.290000</td>\n",
       "      <td>9.000000</td>\n",
       "      <td>95.000000</td>\n",
       "      <td>5200.000000</td>\n",
       "      <td>24.000000</td>\n",
       "      <td>30.000000</td>\n",
       "      <td>10245.000000</td>\n",
       "      <td>0.0</td>\n",
       "      <td>0.000000</td>\n",
       "      <td>0.000000</td>\n",
       "      <td>0.000000</td>\n",
       "      <td>0.000000</td>\n",
       "      <td>0.000000</td>\n",
       "      <td>0.000000</td>\n",
       "      <td>1.000000</td>\n",
       "      <td>1.000000</td>\n",
       "      <td>0.000000</td>\n",
       "      <td>1.000000</td>\n",
       "      <td>0.000000</td>\n",
       "      <td>0.000000</td>\n",
       "      <td>0.000000</td>\n",
       "      <td>0.000000</td>\n",
       "      <td>0.000000</td>\n",
       "      <td>0.00000</td>\n",
       "      <td>0.000000</td>\n",
       "      <td>1.000000</td>\n",
       "      <td>0.000000</td>\n",
       "      <td>1.000000</td>\n",
       "      <td>0.000000</td>\n",
       "      <td>0.000000</td>\n",
       "      <td>0.0</td>\n",
       "      <td>0.000000</td>\n",
       "      <td>1.000000</td>\n",
       "      <td>0.000000</td>\n",
       "      <td>0.000000</td>\n",
       "      <td>0.000000</td>\n",
       "      <td>0.000000</td>\n",
       "      <td>0.000000</td>\n",
       "      <td>1.000000</td>\n",
       "      <td>0.000000</td>\n",
       "      <td>0.0</td>\n",
       "      <td>0.000000</td>\n",
       "      <td>0.000000</td>\n",
       "      <td>0.000000</td>\n",
       "      <td>0.000000</td>\n",
       "      <td>0.000000</td>\n",
       "      <td>0.000000</td>\n",
       "      <td>0.000000</td>\n",
       "      <td>0.000000</td>\n",
       "      <td>0.000000</td>\n",
       "      <td>0.000000</td>\n",
       "    </tr>\n",
       "    <tr>\n",
       "      <th>75%</th>\n",
       "      <td>102.400000</td>\n",
       "      <td>180.300000</td>\n",
       "      <td>66.600000</td>\n",
       "      <td>55.500000</td>\n",
       "      <td>2952.000000</td>\n",
       "      <td>141.000000</td>\n",
       "      <td>3.580000</td>\n",
       "      <td>3.400000</td>\n",
       "      <td>9.400000</td>\n",
       "      <td>116.000000</td>\n",
       "      <td>5500.000000</td>\n",
       "      <td>30.000000</td>\n",
       "      <td>34.000000</td>\n",
       "      <td>16695.000000</td>\n",
       "      <td>0.0</td>\n",
       "      <td>0.000000</td>\n",
       "      <td>1.000000</td>\n",
       "      <td>1.000000</td>\n",
       "      <td>0.000000</td>\n",
       "      <td>0.000000</td>\n",
       "      <td>0.000000</td>\n",
       "      <td>1.000000</td>\n",
       "      <td>1.000000</td>\n",
       "      <td>0.000000</td>\n",
       "      <td>1.000000</td>\n",
       "      <td>1.000000</td>\n",
       "      <td>0.000000</td>\n",
       "      <td>0.000000</td>\n",
       "      <td>1.000000</td>\n",
       "      <td>1.000000</td>\n",
       "      <td>0.00000</td>\n",
       "      <td>0.000000</td>\n",
       "      <td>1.000000</td>\n",
       "      <td>1.000000</td>\n",
       "      <td>1.000000</td>\n",
       "      <td>0.000000</td>\n",
       "      <td>0.000000</td>\n",
       "      <td>0.0</td>\n",
       "      <td>0.000000</td>\n",
       "      <td>1.000000</td>\n",
       "      <td>0.000000</td>\n",
       "      <td>0.000000</td>\n",
       "      <td>0.000000</td>\n",
       "      <td>0.000000</td>\n",
       "      <td>0.000000</td>\n",
       "      <td>1.000000</td>\n",
       "      <td>0.000000</td>\n",
       "      <td>0.0</td>\n",
       "      <td>0.000000</td>\n",
       "      <td>0.000000</td>\n",
       "      <td>0.000000</td>\n",
       "      <td>1.000000</td>\n",
       "      <td>0.000000</td>\n",
       "      <td>0.000000</td>\n",
       "      <td>0.000000</td>\n",
       "      <td>1.000000</td>\n",
       "      <td>0.000000</td>\n",
       "      <td>0.000000</td>\n",
       "    </tr>\n",
       "    <tr>\n",
       "      <th>max</th>\n",
       "      <td>115.600000</td>\n",
       "      <td>202.600000</td>\n",
       "      <td>72.000000</td>\n",
       "      <td>59.800000</td>\n",
       "      <td>4066.000000</td>\n",
       "      <td>326.000000</td>\n",
       "      <td>3.940000</td>\n",
       "      <td>4.170000</td>\n",
       "      <td>23.000000</td>\n",
       "      <td>262.000000</td>\n",
       "      <td>6600.000000</td>\n",
       "      <td>49.000000</td>\n",
       "      <td>54.000000</td>\n",
       "      <td>45400.000000</td>\n",
       "      <td>0.0</td>\n",
       "      <td>1.000000</td>\n",
       "      <td>1.000000</td>\n",
       "      <td>1.000000</td>\n",
       "      <td>1.000000</td>\n",
       "      <td>1.000000</td>\n",
       "      <td>1.000000</td>\n",
       "      <td>1.000000</td>\n",
       "      <td>1.000000</td>\n",
       "      <td>1.000000</td>\n",
       "      <td>1.000000</td>\n",
       "      <td>1.000000</td>\n",
       "      <td>1.000000</td>\n",
       "      <td>1.000000</td>\n",
       "      <td>1.000000</td>\n",
       "      <td>1.000000</td>\n",
       "      <td>1.00000</td>\n",
       "      <td>1.000000</td>\n",
       "      <td>1.000000</td>\n",
       "      <td>1.000000</td>\n",
       "      <td>1.000000</td>\n",
       "      <td>1.000000</td>\n",
       "      <td>1.000000</td>\n",
       "      <td>0.0</td>\n",
       "      <td>1.000000</td>\n",
       "      <td>1.000000</td>\n",
       "      <td>1.000000</td>\n",
       "      <td>1.000000</td>\n",
       "      <td>1.000000</td>\n",
       "      <td>1.000000</td>\n",
       "      <td>1.000000</td>\n",
       "      <td>1.000000</td>\n",
       "      <td>1.000000</td>\n",
       "      <td>0.0</td>\n",
       "      <td>1.000000</td>\n",
       "      <td>1.000000</td>\n",
       "      <td>1.000000</td>\n",
       "      <td>1.000000</td>\n",
       "      <td>1.000000</td>\n",
       "      <td>1.000000</td>\n",
       "      <td>1.000000</td>\n",
       "      <td>1.000000</td>\n",
       "      <td>1.000000</td>\n",
       "      <td>1.000000</td>\n",
       "    </tr>\n",
       "  </tbody>\n",
       "</table>\n",
       "</div>"
      ],
      "text/plain": [
       "        wheelbase   carlength  ...  fuelsystem_spdi  fuelsystem_spfi\n",
       "count  141.000000  141.000000  ...       141.000000       141.000000\n",
       "mean    98.692199  173.658156  ...         0.035461         0.007092\n",
       "std      6.005665   12.320089  ...         0.185601         0.084215\n",
       "min     86.600000  144.600000  ...         0.000000         0.000000\n",
       "25%     94.500000  166.300000  ...         0.000000         0.000000\n",
       "50%     96.500000  172.400000  ...         0.000000         0.000000\n",
       "75%    102.400000  180.300000  ...         0.000000         0.000000\n",
       "max    115.600000  202.600000  ...         1.000000         1.000000\n",
       "\n",
       "[8 rows x 58 columns]"
      ]
     },
     "execution_count": 26,
     "metadata": {
      "tags": []
     },
     "output_type": "execute_result"
    }
   ],
   "source": [
    "# check statistical overview if there are some outliers and abnormal values\n",
    "train_total.describe()"
   ]
  },
  {
   "cell_type": "code",
   "execution_count": 27,
   "metadata": {
    "executionInfo": {
     "elapsed": 927,
     "status": "ok",
     "timestamp": 1618740812963,
     "user": {
      "displayName": "Muhammad Abdullah",
      "photoUrl": "https://lh3.googleusercontent.com/a-/AOh14GgzEqtifDXcGhaQ2OrGuwEdOYc5Oja8bXPgQjiT=s64",
      "userId": "11496234986057044171"
     },
     "user_tz": -300
    },
    "id": "M7-ejVzveGPb"
   },
   "outputs": [],
   "source": [
    "# get our price labels and store in another dataframe\n",
    "train_label = train_total.loc[:,'price']\n",
    "test_label = test_total.loc[:,'price']"
   ]
  },
  {
   "cell_type": "code",
   "execution_count": 29,
   "metadata": {
    "executionInfo": {
     "elapsed": 626,
     "status": "ok",
     "timestamp": 1618740868470,
     "user": {
      "displayName": "Muhammad Abdullah",
      "photoUrl": "https://lh3.googleusercontent.com/a-/AOh14GgzEqtifDXcGhaQ2OrGuwEdOYc5Oja8bXPgQjiT=s64",
      "userId": "11496234986057044171"
     },
     "user_tz": -300
    },
    "id": "ixQG3ZnpeJiw"
   },
   "outputs": [],
   "source": [
    "# drop price from oroginal training and test dataset , as price is not needed there\n",
    "test_data= test_total.drop(columns = ['price'])\n",
    "train_data= train_total.drop(columns = ['price'])"
   ]
  },
  {
   "cell_type": "code",
   "execution_count": 30,
   "metadata": {
    "colab": {
     "base_uri": "https://localhost:8080/"
    },
    "executionInfo": {
     "elapsed": 966,
     "status": "ok",
     "timestamp": 1618740878097,
     "user": {
      "displayName": "Muhammad Abdullah",
      "photoUrl": "https://lh3.googleusercontent.com/a-/AOh14GgzEqtifDXcGhaQ2OrGuwEdOYc5Oja8bXPgQjiT=s64",
      "userId": "11496234986057044171"
     },
     "user_tz": -300
    },
    "id": "iLL2mnUieMSo",
    "outputId": "23be7806-3c55-4cf1-9a4b-d2c11d821818"
   },
   "outputs": [
    {
     "data": {
      "text/plain": [
       "(141, 57)"
      ]
     },
     "execution_count": 30,
     "metadata": {
      "tags": []
     },
     "output_type": "execute_result"
    }
   ],
   "source": [
    "train_data.shape"
   ]
  },
  {
   "cell_type": "code",
   "execution_count": 31,
   "metadata": {
    "colab": {
     "base_uri": "https://localhost:8080/"
    },
    "executionInfo": {
     "elapsed": 913,
     "status": "ok",
     "timestamp": 1618740894923,
     "user": {
      "displayName": "Muhammad Abdullah",
      "photoUrl": "https://lh3.googleusercontent.com/a-/AOh14GgzEqtifDXcGhaQ2OrGuwEdOYc5Oja8bXPgQjiT=s64",
      "userId": "11496234986057044171"
     },
     "user_tz": -300
    },
    "id": "TqDA7IuVeZb1",
    "outputId": "55c7913d-41c1-4e00-b8b2-d248e23a1254"
   },
   "outputs": [
    {
     "data": {
      "text/plain": [
       "{0: 'wheelbase',\n",
       " 1: 'carlength',\n",
       " 2: 'carwidth',\n",
       " 3: 'carheight',\n",
       " 4: 'curbweight',\n",
       " 5: 'enginesize',\n",
       " 6: 'boreratio',\n",
       " 7: 'stroke',\n",
       " 8: 'compressionratio',\n",
       " 9: 'horsepower',\n",
       " 10: 'peakrpm',\n",
       " 11: 'citympg',\n",
       " 12: 'highwaympg',\n",
       " 13: 'symboling_-2',\n",
       " 14: 'symboling_-1',\n",
       " 15: 'symboling_0',\n",
       " 16: 'symboling_1',\n",
       " 17: 'symboling_2',\n",
       " 18: 'symboling_3',\n",
       " 19: 'fueltype_diesel',\n",
       " 20: 'fueltype_gas',\n",
       " 21: 'aspiration_std',\n",
       " 22: 'aspiration_turbo',\n",
       " 23: 'doornumber_four',\n",
       " 24: 'doornumber_two',\n",
       " 25: 'carbody_convertible',\n",
       " 26: 'carbody_hardtop',\n",
       " 27: 'carbody_hatchback',\n",
       " 28: 'carbody_sedan',\n",
       " 29: 'carbody_wagon',\n",
       " 30: 'drivewheel_4wd',\n",
       " 31: 'drivewheel_fwd',\n",
       " 32: 'drivewheel_rwd',\n",
       " 33: 'enginelocation_front',\n",
       " 34: 'enginelocation_rear',\n",
       " 35: 'enginetype_dohc',\n",
       " 36: 'enginetype_dohcv',\n",
       " 37: 'enginetype_l',\n",
       " 38: 'enginetype_ohc',\n",
       " 39: 'enginetype_ohcf',\n",
       " 40: 'enginetype_ohcv',\n",
       " 41: 'enginetype_rotor',\n",
       " 42: 'cylindernumber_eight',\n",
       " 43: 'cylindernumber_five',\n",
       " 44: 'cylindernumber_four',\n",
       " 45: 'cylindernumber_six',\n",
       " 46: 'cylindernumber_three',\n",
       " 47: 'cylindernumber_twelve',\n",
       " 48: 'cylindernumber_two',\n",
       " 49: 'fuelsystem_1bbl',\n",
       " 50: 'fuelsystem_2bbl',\n",
       " 51: 'fuelsystem_4bbl',\n",
       " 52: 'fuelsystem_idi',\n",
       " 53: 'fuelsystem_mfi',\n",
       " 54: 'fuelsystem_mpfi',\n",
       " 55: 'fuelsystem_spdi',\n",
       " 56: 'fuelsystem_spfi'}"
      ]
     },
     "execution_count": 31,
     "metadata": {
      "tags": []
     },
     "output_type": "execute_result"
    }
   ],
   "source": [
    "#get indices of the columns so that we can know how many columns we have to normalize, as catagorical columns which we\n",
    "# have added with onehot encoding, do not need to be normalized.. normalizing will be done in next cell\n",
    "{train_data.columns.get_loc(c): c for idx, c in enumerate(train_data.columns)}"
   ]
  },
  {
   "cell_type": "code",
   "execution_count": 32,
   "metadata": {
    "executionInfo": {
     "elapsed": 1077,
     "status": "ok",
     "timestamp": 1618740906250,
     "user": {
      "displayName": "Muhammad Abdullah",
      "photoUrl": "https://lh3.googleusercontent.com/a-/AOh14GgzEqtifDXcGhaQ2OrGuwEdOYc5Oja8bXPgQjiT=s64",
      "userId": "11496234986057044171"
     },
     "user_tz": -300
    },
    "id": "HugkTqDjedjd"
   },
   "outputs": [],
   "source": [
    "## we normalize data because data has big vlaues in decimal and it will worsen performance of our model, may overfit \n",
    "## or  we may face hardware resource high usage\n",
    "# we will apply the formula normalized_train_data = (train_data - mean)/ stadrad_deviation\n",
    "## firt take mean of training, then subtract mean from each value of the array slice train_data.iloc[:,0:13]\n",
    "mean = train_data.iloc[:,0:13].mean(axis=0) # taking the mean of \n",
    "train_data.iloc[:,0:13] -= mean\n",
    "std = train_data.iloc[:,0:13].std(axis=0)\n",
    "train_data.iloc[:,0:13] /= std\n",
    "test_data.iloc[:,0:13] -= mean\n",
    "test_data.iloc[:,0:13] /= std"
   ]
  },
  {
   "cell_type": "code",
   "execution_count": 33,
   "metadata": {
    "executionInfo": {
     "elapsed": 1058,
     "status": "ok",
     "timestamp": 1618740915525,
     "user": {
      "displayName": "Muhammad Abdullah",
      "photoUrl": "https://lh3.googleusercontent.com/a-/AOh14GgzEqtifDXcGhaQ2OrGuwEdOYc5Oja8bXPgQjiT=s64",
      "userId": "11496234986057044171"
     },
     "user_tz": -300
    },
    "id": "D44H6i2ZegSI"
   },
   "outputs": [],
   "source": [
    "mean_label = train_label.mean()\n",
    "train_label -= mean_label\n",
    "std_label = train_label.std()\n",
    "train_label /= std_label\n",
    "test_label -= mean_label\n",
    "test_label /= std_label"
   ]
  },
  {
   "cell_type": "code",
   "execution_count": 34,
   "metadata": {
    "colab": {
     "base_uri": "https://localhost:8080/"
    },
    "executionInfo": {
     "elapsed": 1072,
     "status": "ok",
     "timestamp": 1618740920593,
     "user": {
      "displayName": "Muhammad Abdullah",
      "photoUrl": "https://lh3.googleusercontent.com/a-/AOh14GgzEqtifDXcGhaQ2OrGuwEdOYc5Oja8bXPgQjiT=s64",
      "userId": "11496234986057044171"
     },
     "user_tz": -300
    },
    "id": "gO3ObwSbeijZ",
    "outputId": "e5472933-3345-43f2-d000-ac506e043f54"
   },
   "outputs": [
    {
     "name": "stdout",
     "output_type": "stream",
     "text": [
      "13379.132390070921\n"
     ]
    }
   ],
   "source": [
    "print(mean_label)"
   ]
  },
  {
   "cell_type": "code",
   "execution_count": 35,
   "metadata": {
    "colab": {
     "base_uri": "https://localhost:8080/"
    },
    "executionInfo": {
     "elapsed": 1178,
     "status": "ok",
     "timestamp": 1618740928050,
     "user": {
      "displayName": "Muhammad Abdullah",
      "photoUrl": "https://lh3.googleusercontent.com/a-/AOh14GgzEqtifDXcGhaQ2OrGuwEdOYc5Oja8bXPgQjiT=s64",
      "userId": "11496234986057044171"
     },
     "user_tz": -300
    },
    "id": "mOIJMmh1ejyg",
    "outputId": "78a9f1cf-8b6b-4916-cfcc-d925fe3951db"
   },
   "outputs": [
    {
     "data": {
      "text/plain": [
       "0      0.014148\n",
       "10     0.372534\n",
       "14     1.365880\n",
       "15     2.122337\n",
       "18    -1.004718\n",
       "         ...   \n",
       "192    0.056886\n",
       "193   -0.132991\n",
       "194   -0.053621\n",
       "196    0.318196\n",
       "198    0.615529\n",
       "Name: price, Length: 64, dtype: float64"
      ]
     },
     "execution_count": 35,
     "metadata": {
      "tags": []
     },
     "output_type": "execute_result"
    }
   ],
   "source": [
    "test_label"
   ]
  },
  {
   "cell_type": "code",
   "execution_count": 36,
   "metadata": {
    "colab": {
     "base_uri": "https://localhost:8080/"
    },
    "executionInfo": {
     "elapsed": 926,
     "status": "ok",
     "timestamp": 1618740934784,
     "user": {
      "displayName": "Muhammad Abdullah",
      "photoUrl": "https://lh3.googleusercontent.com/a-/AOh14GgzEqtifDXcGhaQ2OrGuwEdOYc5Oja8bXPgQjiT=s64",
      "userId": "11496234986057044171"
     },
     "user_tz": -300
    },
    "id": "LAsI4MfWelld",
    "outputId": "4f7ca20b-0f94-4d51-cb13-441e47240057"
   },
   "outputs": [
    {
     "data": {
      "text/plain": [
       "(141, 57)"
      ]
     },
     "execution_count": 36,
     "metadata": {
      "tags": []
     },
     "output_type": "execute_result"
    }
   ],
   "source": [
    "train_data.shape"
   ]
  },
  {
   "cell_type": "code",
   "execution_count": 38,
   "metadata": {
    "colab": {
     "base_uri": "https://localhost:8080/"
    },
    "executionInfo": {
     "elapsed": 1042,
     "status": "ok",
     "timestamp": 1618740974399,
     "user": {
      "displayName": "Muhammad Abdullah",
      "photoUrl": "https://lh3.googleusercontent.com/a-/AOh14GgzEqtifDXcGhaQ2OrGuwEdOYc5Oja8bXPgQjiT=s64",
      "userId": "11496234986057044171"
     },
     "user_tz": -300
    },
    "id": "tZ55Hi46enSq",
    "outputId": "cc21951c-ee01-40bf-ff0d-266a8c7fdcc0"
   },
   "outputs": [
    {
     "data": {
      "text/plain": [
       "(141, 57)"
      ]
     },
     "execution_count": 38,
     "metadata": {
      "tags": []
     },
     "output_type": "execute_result"
    }
   ],
   "source": [
    "#store in numpy array\n",
    "test = np.array(test_data.iloc[:])\n",
    "train = np.array(train_data.iloc[:])\n",
    "test_l= np.array(test_label.astype('float32'))\n",
    "train_l= np.array(train_label.astype('float32'))\n",
    "train.shape"
   ]
  },
  {
   "cell_type": "code",
   "execution_count": null,
   "metadata": {
    "id": "YZOzFc4_epzp"
   },
   "outputs": [],
   "source": []
  },
  {
   "cell_type": "markdown",
   "metadata": {
    "id": "rz4nTeJueynd"
   },
   "source": [
    "**Models section**"
   ]
  },
  {
   "cell_type": "code",
   "execution_count": 39,
   "metadata": {
    "executionInfo": {
     "elapsed": 986,
     "status": "ok",
     "timestamp": 1618741026084,
     "user": {
      "displayName": "Muhammad Abdullah",
      "photoUrl": "https://lh3.googleusercontent.com/a-/AOh14GgzEqtifDXcGhaQ2OrGuwEdOYc5Oja8bXPgQjiT=s64",
      "userId": "11496234986057044171"
     },
     "user_tz": -300
    },
    "id": "hpMCIH84e7HW"
   },
   "outputs": [],
   "source": [
    "# we are passing activation function as a parameter here so that we can call this function with tanh or relu while\n",
    "# fitting and training the model\n",
    "from keras import models\n",
    "from keras import layers\n",
    "def build_model(act):\n",
    "  model = models.Sequential()\n",
    "  model.add(layers.Dense(10, activation= act,input_shape=(train.shape[1],)))\n",
    "  model.add(layers.Dense(8, activation= act))\n",
    "  model.add(layers.Dense(6, activation= act))\n",
    "  model.add(layers.Dense(1))\n",
    "  model.compile(optimizer='rmsprop', loss='mse', metrics=['mae'])\n",
    "  return model"
   ]
  },
  {
   "cell_type": "code",
   "execution_count": 40,
   "metadata": {
    "colab": {
     "base_uri": "https://localhost:8080/"
    },
    "executionInfo": {
     "elapsed": 1126,
     "status": "ok",
     "timestamp": 1618741036077,
     "user": {
      "displayName": "Muhammad Abdullah",
      "photoUrl": "https://lh3.googleusercontent.com/a-/AOh14GgzEqtifDXcGhaQ2OrGuwEdOYc5Oja8bXPgQjiT=s64",
      "userId": "11496234986057044171"
     },
     "user_tz": -300
    },
    "id": "6xGSh1a6e9kN",
    "outputId": "c69042f9-b72d-4c7f-9d3f-bb33238b616e"
   },
   "outputs": [
    {
     "name": "stdout",
     "output_type": "stream",
     "text": [
      "Model: \"sequential\"\n",
      "_________________________________________________________________\n",
      "Layer (type)                 Output Shape              Param #   \n",
      "=================================================================\n",
      "dense (Dense)                (None, 10)                580       \n",
      "_________________________________________________________________\n",
      "dense_1 (Dense)              (None, 8)                 88        \n",
      "_________________________________________________________________\n",
      "dense_2 (Dense)              (None, 6)                 54        \n",
      "_________________________________________________________________\n",
      "dense_3 (Dense)              (None, 1)                 7         \n",
      "=================================================================\n",
      "Total params: 729\n",
      "Trainable params: 729\n",
      "Non-trainable params: 0\n",
      "_________________________________________________________________\n"
     ]
    }
   ],
   "source": [
    "build_model('relu').summary()"
   ]
  },
  {
   "cell_type": "code",
   "execution_count": 41,
   "metadata": {
    "colab": {
     "base_uri": "https://localhost:8080/"
    },
    "executionInfo": {
     "elapsed": 978,
     "status": "ok",
     "timestamp": 1618741048017,
     "user": {
      "displayName": "Muhammad Abdullah",
      "photoUrl": "https://lh3.googleusercontent.com/a-/AOh14GgzEqtifDXcGhaQ2OrGuwEdOYc5Oja8bXPgQjiT=s64",
      "userId": "11496234986057044171"
     },
     "user_tz": -300
    },
    "id": "ROxFdtU1e_-K",
    "outputId": "1289b421-8a22-4c81-ca46-3f8682fbff26"
   },
   "outputs": [
    {
     "name": "stdout",
     "output_type": "stream",
     "text": [
      "Model: \"sequential_1\"\n",
      "_________________________________________________________________\n",
      "Layer (type)                 Output Shape              Param #   \n",
      "=================================================================\n",
      "dense_4 (Dense)              (None, 10)                580       \n",
      "_________________________________________________________________\n",
      "dense_5 (Dense)              (None, 8)                 88        \n",
      "_________________________________________________________________\n",
      "dense_6 (Dense)              (None, 6)                 54        \n",
      "_________________________________________________________________\n",
      "dense_7 (Dense)              (None, 1)                 7         \n",
      "=================================================================\n",
      "Total params: 729\n",
      "Trainable params: 729\n",
      "Non-trainable params: 0\n",
      "_________________________________________________________________\n"
     ]
    }
   ],
   "source": [
    "build_model('tanh').summary()"
   ]
  },
  {
   "cell_type": "code",
   "execution_count": 42,
   "metadata": {
    "executionInfo": {
     "elapsed": 1000,
     "status": "ok",
     "timestamp": 1618741057175,
     "user": {
      "displayName": "Muhammad Abdullah",
      "photoUrl": "https://lh3.googleusercontent.com/a-/AOh14GgzEqtifDXcGhaQ2OrGuwEdOYc5Oja8bXPgQjiT=s64",
      "userId": "11496234986057044171"
     },
     "user_tz": -300
    },
    "id": "siLCTLuZfC68"
   },
   "outputs": [],
   "source": [
    "# Regularized model\n",
    "from keras import regularizers\n",
    "def build_model_regular(act):\n",
    "  model = models.Sequential()\n",
    "  model.add(layers.Dense(10, activation= act,kernel_regularizer= regularizers.l1_l2(l1=0.001, l2=0.001),input_shape=(train.shape[1],)))\n",
    "  model.add(layers.Dense(8, activation= act,kernel_regularizer= regularizers.l1_l2(l1=0.001, l2=0.001)))\n",
    "  model.add(layers.Dense(6, activation= act,kernel_regularizer= regularizers.l1_l2(l1=0.001, l2=0.001)))\n",
    "  model.add(layers.Dense(1))\n",
    "  model.compile(optimizer='rmsprop', loss='mse', metrics=['mae'])\n",
    "  return model"
   ]
  },
  {
   "cell_type": "code",
   "execution_count": 43,
   "metadata": {
    "colab": {
     "base_uri": "https://localhost:8080/"
    },
    "executionInfo": {
     "elapsed": 1089,
     "status": "ok",
     "timestamp": 1618741068002,
     "user": {
      "displayName": "Muhammad Abdullah",
      "photoUrl": "https://lh3.googleusercontent.com/a-/AOh14GgzEqtifDXcGhaQ2OrGuwEdOYc5Oja8bXPgQjiT=s64",
      "userId": "11496234986057044171"
     },
     "user_tz": -300
    },
    "id": "ekg28gEmfFJw",
    "outputId": "a5e5f796-57fa-4875-be71-05658acc1dad"
   },
   "outputs": [
    {
     "name": "stdout",
     "output_type": "stream",
     "text": [
      "Model: \"sequential_2\"\n",
      "_________________________________________________________________\n",
      "Layer (type)                 Output Shape              Param #   \n",
      "=================================================================\n",
      "dense_8 (Dense)              (None, 10)                580       \n",
      "_________________________________________________________________\n",
      "dense_9 (Dense)              (None, 8)                 88        \n",
      "_________________________________________________________________\n",
      "dense_10 (Dense)             (None, 6)                 54        \n",
      "_________________________________________________________________\n",
      "dense_11 (Dense)             (None, 1)                 7         \n",
      "=================================================================\n",
      "Total params: 729\n",
      "Trainable params: 729\n",
      "Non-trainable params: 0\n",
      "_________________________________________________________________\n"
     ]
    }
   ],
   "source": [
    "build_model_regular('tanh').summary()"
   ]
  },
  {
   "cell_type": "code",
   "execution_count": 44,
   "metadata": {
    "executionInfo": {
     "elapsed": 1711,
     "status": "ok",
     "timestamp": 1618741078105,
     "user": {
      "displayName": "Muhammad Abdullah",
      "photoUrl": "https://lh3.googleusercontent.com/a-/AOh14GgzEqtifDXcGhaQ2OrGuwEdOYc5Oja8bXPgQjiT=s64",
      "userId": "11496234986057044171"
     },
     "user_tz": -300
    },
    "id": "5hCEu203fHxn"
   },
   "outputs": [],
   "source": [
    "# dropout model\n",
    "from keras import regularizers\n",
    "def build_model_drop(act):\n",
    "  model = models.Sequential()\n",
    "  model.add(layers.Dense(10, activation= act,input_shape=(train.shape[1],)))\n",
    "  model.add(layers.Dropout(0.1))\n",
    "  model.add(layers.Dense(8, activation= act))\n",
    "  model.add(layers.Dropout(0.1))\n",
    "  model.add(layers.Dense(6, activation= act))\n",
    "  model.add(layers.Dropout(0.1))\n",
    "  model.add(layers.Dense(1))\n",
    "  model.compile(optimizer='rmsprop', loss='mse', metrics=['mae'])\n",
    "  return model"
   ]
  },
  {
   "cell_type": "markdown",
   "metadata": {
    "id": "oYoGqtDgfNm_"
   },
   "source": [
    "**K Fold validation section**"
   ]
  },
  {
   "cell_type": "code",
   "execution_count": 45,
   "metadata": {
    "colab": {
     "base_uri": "https://localhost:8080/"
    },
    "executionInfo": {
     "elapsed": 35585,
     "status": "ok",
     "timestamp": 1618741143060,
     "user": {
      "displayName": "Muhammad Abdullah",
      "photoUrl": "https://lh3.googleusercontent.com/a-/AOh14GgzEqtifDXcGhaQ2OrGuwEdOYc5Oja8bXPgQjiT=s64",
      "userId": "11496234986057044171"
     },
     "user_tz": -300
    },
    "id": "Lmh3kXOAfKFn",
    "outputId": "519ed215-8c69-4f40-af05-d1c08d0d1c9f"
   },
   "outputs": [
    {
     "name": "stdout",
     "output_type": "stream",
     "text": [
      "processing fold # 0\n",
      "processing fold # 1\n",
      "processing fold # 2\n",
      "processing fold # 3\n"
     ]
    }
   ],
   "source": [
    "import numpy as np\n",
    "k =  4\n",
    "num_val_samples = len(train) // k\n",
    "num_epochs = 100\n",
    "all_scores_relu = []\n",
    "for i in range(k):\n",
    "  print('processing fold #', i)\n",
    "  val_data = train[i * num_val_samples: (i + 1) * num_val_samples]\n",
    "  val_targets = train_l[i * num_val_samples: (i + 1) * num_val_samples]\n",
    "  partial_train_data = np.concatenate([train[:i * num_val_samples],train[(i + 1) * num_val_samples:]],  axis=0)\n",
    "  # print(partial_train_data)\n",
    "  partial_train_targets = np.concatenate([train_l[:i * num_val_samples],train_l[(i + 1) * num_val_samples:]],axis=0)\n",
    "  model = build_model('relu')\n",
    "  model.fit(partial_train_data, partial_train_targets,epochs=num_epochs, batch_size=1, verbose=0)\n",
    "  val_mse, val_mae = model.evaluate(val_data, val_targets, verbose=0)\n",
    "  all_scores_relu.append(val_mae)"
   ]
  },
  {
   "cell_type": "code",
   "execution_count": 46,
   "metadata": {
    "colab": {
     "base_uri": "https://localhost:8080/"
    },
    "executionInfo": {
     "elapsed": 35918,
     "status": "ok",
     "timestamp": 1618741197712,
     "user": {
      "displayName": "Muhammad Abdullah",
      "photoUrl": "https://lh3.googleusercontent.com/a-/AOh14GgzEqtifDXcGhaQ2OrGuwEdOYc5Oja8bXPgQjiT=s64",
      "userId": "11496234986057044171"
     },
     "user_tz": -300
    },
    "id": "P106XDc2fMYC",
    "outputId": "33b88ad9-84c4-4682-d1a6-4150a86ae603"
   },
   "outputs": [
    {
     "name": "stdout",
     "output_type": "stream",
     "text": [
      "processing fold # 0\n",
      "WARNING:tensorflow:5 out of the last 9 calls to <function Model.make_test_function.<locals>.test_function at 0x7fb779a4fa70> triggered tf.function retracing. Tracing is expensive and the excessive number of tracings could be due to (1) creating @tf.function repeatedly in a loop, (2) passing tensors with different shapes, (3) passing Python objects instead of tensors. For (1), please define your @tf.function outside of the loop. For (2), @tf.function has experimental_relax_shapes=True option that relaxes argument shapes that can avoid unnecessary retracing. For (3), please refer to https://www.tensorflow.org/guide/function#controlling_retracing and https://www.tensorflow.org/api_docs/python/tf/function for  more details.\n",
      "processing fold # 1\n",
      "WARNING:tensorflow:6 out of the last 11 calls to <function Model.make_test_function.<locals>.test_function at 0x7fb7776fd050> triggered tf.function retracing. Tracing is expensive and the excessive number of tracings could be due to (1) creating @tf.function repeatedly in a loop, (2) passing tensors with different shapes, (3) passing Python objects instead of tensors. For (1), please define your @tf.function outside of the loop. For (2), @tf.function has experimental_relax_shapes=True option that relaxes argument shapes that can avoid unnecessary retracing. For (3), please refer to https://www.tensorflow.org/guide/function#controlling_retracing and https://www.tensorflow.org/api_docs/python/tf/function for  more details.\n",
      "processing fold # 2\n",
      "WARNING:tensorflow:6 out of the last 11 calls to <function Model.make_test_function.<locals>.test_function at 0x7fb776ebe050> triggered tf.function retracing. Tracing is expensive and the excessive number of tracings could be due to (1) creating @tf.function repeatedly in a loop, (2) passing tensors with different shapes, (3) passing Python objects instead of tensors. For (1), please define your @tf.function outside of the loop. For (2), @tf.function has experimental_relax_shapes=True option that relaxes argument shapes that can avoid unnecessary retracing. For (3), please refer to https://www.tensorflow.org/guide/function#controlling_retracing and https://www.tensorflow.org/api_docs/python/tf/function for  more details.\n",
      "processing fold # 3\n",
      "WARNING:tensorflow:6 out of the last 11 calls to <function Model.make_test_function.<locals>.test_function at 0x7fb779109710> triggered tf.function retracing. Tracing is expensive and the excessive number of tracings could be due to (1) creating @tf.function repeatedly in a loop, (2) passing tensors with different shapes, (3) passing Python objects instead of tensors. For (1), please define your @tf.function outside of the loop. For (2), @tf.function has experimental_relax_shapes=True option that relaxes argument shapes that can avoid unnecessary retracing. For (3), please refer to https://www.tensorflow.org/guide/function#controlling_retracing and https://www.tensorflow.org/api_docs/python/tf/function for  more details.\n"
     ]
    }
   ],
   "source": [
    "import numpy as np\n",
    "k =  4\n",
    "num_val_samples = len(train) // k\n",
    "num_epochs = 100\n",
    "all_scores_tanh = []\n",
    "for i in range(k):\n",
    "  print('processing fold #', i)\n",
    "  val_data = train[i * num_val_samples: (i + 1) * num_val_samples]\n",
    "  val_targets = train_l[i * num_val_samples: (i + 1) * num_val_samples]\n",
    "  partial_train_data = np.concatenate([train[:i * num_val_samples],train[(i + 1) * num_val_samples:]],  axis=0)\n",
    "  # print(partial_train_data)\n",
    "  partial_train_targets = np.concatenate([train_l[:i * num_val_samples],train_l[(i + 1) * num_val_samples:]],axis=0)\n",
    "  model = build_model('tanh')\n",
    "  model.fit(partial_train_data, partial_train_targets,epochs=num_epochs, batch_size=1, verbose=0)\n",
    "  val_mse, val_mae = model.evaluate(val_data, val_targets, verbose=0)\n",
    "  all_scores_tanh.append(val_mae)"
   ]
  },
  {
   "cell_type": "code",
   "execution_count": 47,
   "metadata": {
    "colab": {
     "base_uri": "https://localhost:8080/"
    },
    "executionInfo": {
     "elapsed": 37625,
     "status": "ok",
     "timestamp": 1618741244041,
     "user": {
      "displayName": "Muhammad Abdullah",
      "photoUrl": "https://lh3.googleusercontent.com/a-/AOh14GgzEqtifDXcGhaQ2OrGuwEdOYc5Oja8bXPgQjiT=s64",
      "userId": "11496234986057044171"
     },
     "user_tz": -300
    },
    "id": "tYW2jivmfezc",
    "outputId": "29817cfe-305e-4dc5-8906-6ecc04e62399"
   },
   "outputs": [
    {
     "name": "stdout",
     "output_type": "stream",
     "text": [
      "processing fold # 0\n",
      "WARNING:tensorflow:6 out of the last 11 calls to <function Model.make_test_function.<locals>.test_function at 0x7fb77cad1950> triggered tf.function retracing. Tracing is expensive and the excessive number of tracings could be due to (1) creating @tf.function repeatedly in a loop, (2) passing tensors with different shapes, (3) passing Python objects instead of tensors. For (1), please define your @tf.function outside of the loop. For (2), @tf.function has experimental_relax_shapes=True option that relaxes argument shapes that can avoid unnecessary retracing. For (3), please refer to https://www.tensorflow.org/guide/function#controlling_retracing and https://www.tensorflow.org/api_docs/python/tf/function for  more details.\n",
      "processing fold # 1\n",
      "WARNING:tensorflow:6 out of the last 11 calls to <function Model.make_test_function.<locals>.test_function at 0x7fb777fd75f0> triggered tf.function retracing. Tracing is expensive and the excessive number of tracings could be due to (1) creating @tf.function repeatedly in a loop, (2) passing tensors with different shapes, (3) passing Python objects instead of tensors. For (1), please define your @tf.function outside of the loop. For (2), @tf.function has experimental_relax_shapes=True option that relaxes argument shapes that can avoid unnecessary retracing. For (3), please refer to https://www.tensorflow.org/guide/function#controlling_retracing and https://www.tensorflow.org/api_docs/python/tf/function for  more details.\n",
      "processing fold # 2\n",
      "WARNING:tensorflow:6 out of the last 11 calls to <function Model.make_test_function.<locals>.test_function at 0x7fb7791d0b00> triggered tf.function retracing. Tracing is expensive and the excessive number of tracings could be due to (1) creating @tf.function repeatedly in a loop, (2) passing tensors with different shapes, (3) passing Python objects instead of tensors. For (1), please define your @tf.function outside of the loop. For (2), @tf.function has experimental_relax_shapes=True option that relaxes argument shapes that can avoid unnecessary retracing. For (3), please refer to https://www.tensorflow.org/guide/function#controlling_retracing and https://www.tensorflow.org/api_docs/python/tf/function for  more details.\n",
      "processing fold # 3\n",
      "WARNING:tensorflow:6 out of the last 11 calls to <function Model.make_test_function.<locals>.test_function at 0x7fb7749e1290> triggered tf.function retracing. Tracing is expensive and the excessive number of tracings could be due to (1) creating @tf.function repeatedly in a loop, (2) passing tensors with different shapes, (3) passing Python objects instead of tensors. For (1), please define your @tf.function outside of the loop. For (2), @tf.function has experimental_relax_shapes=True option that relaxes argument shapes that can avoid unnecessary retracing. For (3), please refer to https://www.tensorflow.org/guide/function#controlling_retracing and https://www.tensorflow.org/api_docs/python/tf/function for  more details.\n"
     ]
    }
   ],
   "source": [
    "#k-fold validtion with regularization\n",
    "import numpy as np\n",
    "k =  4\n",
    "num_val_samples = len(train) // k\n",
    "num_epochs = 100\n",
    "all_scores_regular = []\n",
    "for i in range(k):\n",
    "  print('processing fold #', i)\n",
    "  val_data = train[i * num_val_samples: (i + 1) * num_val_samples]\n",
    "  val_targets = train_l[i * num_val_samples: (i + 1) * num_val_samples]\n",
    "  partial_train_data = np.concatenate([train[:i * num_val_samples],train[(i + 1) * num_val_samples:]],  axis=0)\n",
    "  # print(partial_train_data)\n",
    "  partial_train_targets = np.concatenate([train_l[:i * num_val_samples],train_l[(i + 1) * num_val_samples:]],axis=0)\n",
    "  model = build_model_regular('relu')\n",
    "  model.fit(partial_train_data, partial_train_targets,epochs=num_epochs, batch_size=1, verbose=0)\n",
    "  val_mse, val_mae = model.evaluate(val_data, val_targets, verbose=0)\n",
    "  all_scores_regular.append(val_mae)"
   ]
  },
  {
   "cell_type": "code",
   "execution_count": 48,
   "metadata": {
    "colab": {
     "base_uri": "https://localhost:8080/"
    },
    "executionInfo": {
     "elapsed": 37961,
     "status": "ok",
     "timestamp": 1618741284740,
     "user": {
      "displayName": "Muhammad Abdullah",
      "photoUrl": "https://lh3.googleusercontent.com/a-/AOh14GgzEqtifDXcGhaQ2OrGuwEdOYc5Oja8bXPgQjiT=s64",
      "userId": "11496234986057044171"
     },
     "user_tz": -300
    },
    "id": "O6OsAk4pfp1S",
    "outputId": "bec15927-26a3-4520-f147-f697b7ede497"
   },
   "outputs": [
    {
     "name": "stdout",
     "output_type": "stream",
     "text": [
      "processing fold # 0\n",
      "WARNING:tensorflow:6 out of the last 11 calls to <function Model.make_test_function.<locals>.test_function at 0x7fb77cb32dd0> triggered tf.function retracing. Tracing is expensive and the excessive number of tracings could be due to (1) creating @tf.function repeatedly in a loop, (2) passing tensors with different shapes, (3) passing Python objects instead of tensors. For (1), please define your @tf.function outside of the loop. For (2), @tf.function has experimental_relax_shapes=True option that relaxes argument shapes that can avoid unnecessary retracing. For (3), please refer to https://www.tensorflow.org/guide/function#controlling_retracing and https://www.tensorflow.org/api_docs/python/tf/function for  more details.\n",
      "processing fold # 1\n",
      "WARNING:tensorflow:6 out of the last 11 calls to <function Model.make_test_function.<locals>.test_function at 0x7fb77525cdd0> triggered tf.function retracing. Tracing is expensive and the excessive number of tracings could be due to (1) creating @tf.function repeatedly in a loop, (2) passing tensors with different shapes, (3) passing Python objects instead of tensors. For (1), please define your @tf.function outside of the loop. For (2), @tf.function has experimental_relax_shapes=True option that relaxes argument shapes that can avoid unnecessary retracing. For (3), please refer to https://www.tensorflow.org/guide/function#controlling_retracing and https://www.tensorflow.org/api_docs/python/tf/function for  more details.\n",
      "processing fold # 2\n",
      "WARNING:tensorflow:6 out of the last 11 calls to <function Model.make_test_function.<locals>.test_function at 0x7fb77ac107a0> triggered tf.function retracing. Tracing is expensive and the excessive number of tracings could be due to (1) creating @tf.function repeatedly in a loop, (2) passing tensors with different shapes, (3) passing Python objects instead of tensors. For (1), please define your @tf.function outside of the loop. For (2), @tf.function has experimental_relax_shapes=True option that relaxes argument shapes that can avoid unnecessary retracing. For (3), please refer to https://www.tensorflow.org/guide/function#controlling_retracing and https://www.tensorflow.org/api_docs/python/tf/function for  more details.\n",
      "processing fold # 3\n",
      "WARNING:tensorflow:6 out of the last 11 calls to <function Model.make_test_function.<locals>.test_function at 0x7fb779109710> triggered tf.function retracing. Tracing is expensive and the excessive number of tracings could be due to (1) creating @tf.function repeatedly in a loop, (2) passing tensors with different shapes, (3) passing Python objects instead of tensors. For (1), please define your @tf.function outside of the loop. For (2), @tf.function has experimental_relax_shapes=True option that relaxes argument shapes that can avoid unnecessary retracing. For (3), please refer to https://www.tensorflow.org/guide/function#controlling_retracing and https://www.tensorflow.org/api_docs/python/tf/function for  more details.\n"
     ]
    }
   ],
   "source": [
    "#k-fold validtion with dropout\n",
    "import numpy as np\n",
    "k =  4\n",
    "num_val_samples = len(train) // k\n",
    "num_epochs = 100\n",
    "all_scores_drop = []\n",
    "for i in range(k):\n",
    "  print('processing fold #', i)\n",
    "  val_data = train[i * num_val_samples: (i + 1) * num_val_samples]\n",
    "  val_targets = train_l[i * num_val_samples: (i + 1) * num_val_samples]\n",
    "  partial_train_data = np.concatenate([train[:i * num_val_samples],train[(i + 1) * num_val_samples:]],  axis=0)\n",
    "  # print(partial_train_data)\n",
    "  partial_train_targets = np.concatenate([train_l[:i * num_val_samples],train_l[(i + 1) * num_val_samples:]],axis=0)\n",
    "  model = build_model_drop('relu')\n",
    "  model.fit(partial_train_data, partial_train_targets,epochs=num_epochs, batch_size=1, verbose=0)\n",
    "  val_mse, val_mae = model.evaluate(val_data, val_targets, verbose=0)\n",
    "  all_scores_drop.append(val_mae)"
   ]
  },
  {
   "cell_type": "markdown",
   "metadata": {
    "id": "rIac6qWMf2Z1"
   },
   "source": [
    "**Scores**"
   ]
  },
  {
   "cell_type": "code",
   "execution_count": 49,
   "metadata": {
    "colab": {
     "base_uri": "https://localhost:8080/"
    },
    "executionInfo": {
     "elapsed": 1229,
     "status": "ok",
     "timestamp": 1618741292012,
     "user": {
      "displayName": "Muhammad Abdullah",
      "photoUrl": "https://lh3.googleusercontent.com/a-/AOh14GgzEqtifDXcGhaQ2OrGuwEdOYc5Oja8bXPgQjiT=s64",
      "userId": "11496234986057044171"
     },
     "user_tz": -300
    },
    "id": "zPKuAArFfzrb",
    "outputId": "73c0bbd2-e627-459a-9b74-e0220ee999fe"
   },
   "outputs": [
    {
     "data": {
      "text/plain": [
       "[0.4334268271923065,\n",
       " 0.3279569447040558,\n",
       " 0.327539324760437,\n",
       " 0.33397194743156433]"
      ]
     },
     "execution_count": 49,
     "metadata": {
      "tags": []
     },
     "output_type": "execute_result"
    }
   ],
   "source": [
    "all_scores_relu"
   ]
  },
  {
   "cell_type": "code",
   "execution_count": 50,
   "metadata": {
    "colab": {
     "base_uri": "https://localhost:8080/"
    },
    "executionInfo": {
     "elapsed": 979,
     "status": "ok",
     "timestamp": 1618741301087,
     "user": {
      "displayName": "Muhammad Abdullah",
      "photoUrl": "https://lh3.googleusercontent.com/a-/AOh14GgzEqtifDXcGhaQ2OrGuwEdOYc5Oja8bXPgQjiT=s64",
      "userId": "11496234986057044171"
     },
     "user_tz": -300
    },
    "id": "tcB4uecvgAO2",
    "outputId": "51362aad-de38-4417-8bd4-97a6d120d666"
   },
   "outputs": [
    {
     "data": {
      "text/plain": [
       "[0.37427738308906555,\n",
       " 0.33611345291137695,\n",
       " 0.449479341506958,\n",
       " 0.4561171531677246]"
      ]
     },
     "execution_count": 50,
     "metadata": {
      "tags": []
     },
     "output_type": "execute_result"
    }
   ],
   "source": [
    "all_scores_tanh"
   ]
  },
  {
   "cell_type": "code",
   "execution_count": 51,
   "metadata": {
    "colab": {
     "base_uri": "https://localhost:8080/"
    },
    "executionInfo": {
     "elapsed": 1334,
     "status": "ok",
     "timestamp": 1618741307038,
     "user": {
      "displayName": "Muhammad Abdullah",
      "photoUrl": "https://lh3.googleusercontent.com/a-/AOh14GgzEqtifDXcGhaQ2OrGuwEdOYc5Oja8bXPgQjiT=s64",
      "userId": "11496234986057044171"
     },
     "user_tz": -300
    },
    "id": "auSSvUdJgAs-",
    "outputId": "cd38108f-c2e3-4f11-b9e6-033e8b066831"
   },
   "outputs": [
    {
     "data": {
      "text/plain": [
       "[0.30101504921913147,\n",
       " 0.23969222605228424,\n",
       " 0.3766614496707916,\n",
       " 0.4247294068336487]"
      ]
     },
     "execution_count": 51,
     "metadata": {
      "tags": []
     },
     "output_type": "execute_result"
    }
   ],
   "source": [
    "all_scores_regular"
   ]
  },
  {
   "cell_type": "code",
   "execution_count": 52,
   "metadata": {
    "colab": {
     "base_uri": "https://localhost:8080/"
    },
    "executionInfo": {
     "elapsed": 1154,
     "status": "ok",
     "timestamp": 1618741316115,
     "user": {
      "displayName": "Muhammad Abdullah",
      "photoUrl": "https://lh3.googleusercontent.com/a-/AOh14GgzEqtifDXcGhaQ2OrGuwEdOYc5Oja8bXPgQjiT=s64",
      "userId": "11496234986057044171"
     },
     "user_tz": -300
    },
    "id": "XAcjRgpbgCEm",
    "outputId": "d48e67b2-068c-49f4-e263-ed3059b696b1"
   },
   "outputs": [
    {
     "data": {
      "text/plain": [
       "[0.40215176343917847,\n",
       " 0.35722681879997253,\n",
       " 0.3951672911643982,\n",
       " 0.19418881833553314]"
      ]
     },
     "execution_count": 52,
     "metadata": {
      "tags": []
     },
     "output_type": "execute_result"
    }
   ],
   "source": [
    "all_scores_drop"
   ]
  },
  {
   "cell_type": "markdown",
   "metadata": {
    "id": "M4egTYl0gJ7V"
   },
   "source": [
    "\n",
    "**training on the training data**"
   ]
  },
  {
   "cell_type": "code",
   "execution_count": 53,
   "metadata": {
    "colab": {
     "base_uri": "https://localhost:8080/"
    },
    "executionInfo": {
     "elapsed": 10195,
     "status": "ok",
     "timestamp": 1618741378075,
     "user": {
      "displayName": "Muhammad Abdullah",
      "photoUrl": "https://lh3.googleusercontent.com/a-/AOh14GgzEqtifDXcGhaQ2OrGuwEdOYc5Oja8bXPgQjiT=s64",
      "userId": "11496234986057044171"
     },
     "user_tz": -300
    },
    "id": "4Sjmc08DgETy",
    "outputId": "f7579bd4-78a3-430c-e836-88a042388e9c"
   },
   "outputs": [
    {
     "name": "stdout",
     "output_type": "stream",
     "text": [
      "WARNING:tensorflow:6 out of the last 11 calls to <function Model.make_test_function.<locals>.test_function at 0x7fb775cfd3b0> triggered tf.function retracing. Tracing is expensive and the excessive number of tracings could be due to (1) creating @tf.function repeatedly in a loop, (2) passing tensors with different shapes, (3) passing Python objects instead of tensors. For (1), please define your @tf.function outside of the loop. For (2), @tf.function has experimental_relax_shapes=True option that relaxes argument shapes that can avoid unnecessary retracing. For (3), please refer to https://www.tensorflow.org/guide/function#controlling_retracing and https://www.tensorflow.org/api_docs/python/tf/function for  more details.\n",
      "2/2 [==============================] - 0s 11ms/step - loss: 0.0794 - mae: 0.2080\n"
     ]
    }
   ],
   "source": [
    "model_tanh = build_model('tanh')\n",
    "model_tanh.fit(train, train_l,epochs= 80, batch_size=1, verbose=0)\n",
    "test_mse_score, test_mae_score = model_tanh.evaluate(test, test_l)"
   ]
  },
  {
   "cell_type": "code",
   "execution_count": 54,
   "metadata": {
    "colab": {
     "base_uri": "https://localhost:8080/"
    },
    "executionInfo": {
     "elapsed": 10276,
     "status": "ok",
     "timestamp": 1618741391202,
     "user": {
      "displayName": "Muhammad Abdullah",
      "photoUrl": "https://lh3.googleusercontent.com/a-/AOh14GgzEqtifDXcGhaQ2OrGuwEdOYc5Oja8bXPgQjiT=s64",
      "userId": "11496234986057044171"
     },
     "user_tz": -300
    },
    "id": "6C1NZIRGgRP9",
    "outputId": "2678cd3b-37de-47a6-aa3e-c1ccd698ea11"
   },
   "outputs": [
    {
     "name": "stdout",
     "output_type": "stream",
     "text": [
      "WARNING:tensorflow:6 out of the last 11 calls to <function Model.make_test_function.<locals>.test_function at 0x7fb776e06290> triggered tf.function retracing. Tracing is expensive and the excessive number of tracings could be due to (1) creating @tf.function repeatedly in a loop, (2) passing tensors with different shapes, (3) passing Python objects instead of tensors. For (1), please define your @tf.function outside of the loop. For (2), @tf.function has experimental_relax_shapes=True option that relaxes argument shapes that can avoid unnecessary retracing. For (3), please refer to https://www.tensorflow.org/guide/function#controlling_retracing and https://www.tensorflow.org/api_docs/python/tf/function for  more details.\n",
      "2/2 [==============================] - 0s 5ms/step - loss: 0.0848 - mae: 0.2158\n"
     ]
    }
   ],
   "source": [
    "model_relu = build_model('relu')\n",
    "model_relu.fit(train, train_l,epochs= 80, batch_size=1, verbose=0)\n",
    "test_mse_score, test_mae_score = model_relu.evaluate(test, test_l)"
   ]
  },
  {
   "cell_type": "code",
   "execution_count": 55,
   "metadata": {
    "colab": {
     "base_uri": "https://localhost:8080/"
    },
    "executionInfo": {
     "elapsed": 10673,
     "status": "ok",
     "timestamp": 1618741403378,
     "user": {
      "displayName": "Muhammad Abdullah",
      "photoUrl": "https://lh3.googleusercontent.com/a-/AOh14GgzEqtifDXcGhaQ2OrGuwEdOYc5Oja8bXPgQjiT=s64",
      "userId": "11496234986057044171"
     },
     "user_tz": -300
    },
    "id": "nMv6bq0SgUb3",
    "outputId": "5920f4ad-e7ea-4b45-a54b-f9d5c9b1f496"
   },
   "outputs": [
    {
     "name": "stdout",
     "output_type": "stream",
     "text": [
      "WARNING:tensorflow:6 out of the last 11 calls to <function Model.make_test_function.<locals>.test_function at 0x7fb77c9bb320> triggered tf.function retracing. Tracing is expensive and the excessive number of tracings could be due to (1) creating @tf.function repeatedly in a loop, (2) passing tensors with different shapes, (3) passing Python objects instead of tensors. For (1), please define your @tf.function outside of the loop. For (2), @tf.function has experimental_relax_shapes=True option that relaxes argument shapes that can avoid unnecessary retracing. For (3), please refer to https://www.tensorflow.org/guide/function#controlling_retracing and https://www.tensorflow.org/api_docs/python/tf/function for  more details.\n",
      "2/2 [==============================] - 0s 5ms/step - loss: 0.1449 - mae: 0.2350\n"
     ]
    }
   ],
   "source": [
    "model_regular = build_model_regular('relu')\n",
    "model_regular.fit(train, train_l,epochs= 80, batch_size=1, verbose=0)\n",
    "test_mse_score, test_mae_score = model_regular.evaluate(test, test_l)"
   ]
  },
  {
   "cell_type": "code",
   "execution_count": 56,
   "metadata": {
    "colab": {
     "base_uri": "https://localhost:8080/"
    },
    "executionInfo": {
     "elapsed": 11041,
     "status": "ok",
     "timestamp": 1618741418719,
     "user": {
      "displayName": "Muhammad Abdullah",
      "photoUrl": "https://lh3.googleusercontent.com/a-/AOh14GgzEqtifDXcGhaQ2OrGuwEdOYc5Oja8bXPgQjiT=s64",
      "userId": "11496234986057044171"
     },
     "user_tz": -300
    },
    "id": "tB5isf6dgXT0",
    "outputId": "4f971bcd-c1c7-4a76-d795-3db7fca37906"
   },
   "outputs": [
    {
     "name": "stdout",
     "output_type": "stream",
     "text": [
      "WARNING:tensorflow:6 out of the last 11 calls to <function Model.make_test_function.<locals>.test_function at 0x7fb77a28f0e0> triggered tf.function retracing. Tracing is expensive and the excessive number of tracings could be due to (1) creating @tf.function repeatedly in a loop, (2) passing tensors with different shapes, (3) passing Python objects instead of tensors. For (1), please define your @tf.function outside of the loop. For (2), @tf.function has experimental_relax_shapes=True option that relaxes argument shapes that can avoid unnecessary retracing. For (3), please refer to https://www.tensorflow.org/guide/function#controlling_retracing and https://www.tensorflow.org/api_docs/python/tf/function for  more details.\n",
      "2/2 [==============================] - 0s 5ms/step - loss: 0.0942 - mae: 0.2248\n"
     ]
    }
   ],
   "source": [
    "model_drop = build_model_drop('relu')\n",
    "model_drop.fit(train, train_l,epochs= 80, batch_size=1, verbose=0)\n",
    "test_mse_score, test_mae_score = model_drop.evaluate(test, test_l)"
   ]
  },
  {
   "cell_type": "markdown",
   "metadata": {
    "id": "SsXxOk0kgcdM"
   },
   "source": [
    "**Prediction Section**"
   ]
  },
  {
   "cell_type": "code",
   "execution_count": 57,
   "metadata": {
    "executionInfo": {
     "elapsed": 1092,
     "status": "ok",
     "timestamp": 1618741434237,
     "user": {
      "displayName": "Muhammad Abdullah",
      "photoUrl": "https://lh3.googleusercontent.com/a-/AOh14GgzEqtifDXcGhaQ2OrGuwEdOYc5Oja8bXPgQjiT=s64",
      "userId": "11496234986057044171"
     },
     "user_tz": -300
    },
    "id": "RPJ7GSVaga1w"
   },
   "outputs": [],
   "source": [
    "x_tanh = model_tanh.predict(test[5].reshape(1,test.shape[1]))"
   ]
  },
  {
   "cell_type": "code",
   "execution_count": 58,
   "metadata": {
    "colab": {
     "base_uri": "https://localhost:8080/"
    },
    "executionInfo": {
     "elapsed": 665,
     "status": "ok",
     "timestamp": 1618741444028,
     "user": {
      "displayName": "Muhammad Abdullah",
      "photoUrl": "https://lh3.googleusercontent.com/a-/AOh14GgzEqtifDXcGhaQ2OrGuwEdOYc5Oja8bXPgQjiT=s64",
      "userId": "11496234986057044171"
     },
     "user_tz": -300
    },
    "id": "O--ixLu8ghDU",
    "outputId": "b43304d3-f800-46b6-8a9b-f7eda26e9699"
   },
   "outputs": [
    {
     "data": {
      "text/plain": [
       "array([[6885.7964]], dtype=float32)"
      ]
     },
     "execution_count": 58,
     "metadata": {
      "tags": []
     },
     "output_type": "execute_result"
    }
   ],
   "source": [
    "x_tanh * std_label + mean_label"
   ]
  },
  {
   "cell_type": "code",
   "execution_count": 60,
   "metadata": {
    "executionInfo": {
     "elapsed": 990,
     "status": "ok",
     "timestamp": 1618741454894,
     "user": {
      "displayName": "Muhammad Abdullah",
      "photoUrl": "https://lh3.googleusercontent.com/a-/AOh14GgzEqtifDXcGhaQ2OrGuwEdOYc5Oja8bXPgQjiT=s64",
      "userId": "11496234986057044171"
     },
     "user_tz": -300
    },
    "id": "HTel4ZplgjrV"
   },
   "outputs": [],
   "source": [
    "x_relu = model_relu.predict(test[5].reshape(1,test.shape[1]))"
   ]
  },
  {
   "cell_type": "code",
   "execution_count": 61,
   "metadata": {
    "colab": {
     "base_uri": "https://localhost:8080/"
    },
    "executionInfo": {
     "elapsed": 1272,
     "status": "ok",
     "timestamp": 1618741461759,
     "user": {
      "displayName": "Muhammad Abdullah",
      "photoUrl": "https://lh3.googleusercontent.com/a-/AOh14GgzEqtifDXcGhaQ2OrGuwEdOYc5Oja8bXPgQjiT=s64",
      "userId": "11496234986057044171"
     },
     "user_tz": -300
    },
    "id": "c-RIG8AyglC2",
    "outputId": "42fc6b73-ef31-4a53-f606-7fd1348db411"
   },
   "outputs": [
    {
     "data": {
      "text/plain": [
       "array([[6737.567]], dtype=float32)"
      ]
     },
     "execution_count": 61,
     "metadata": {
      "tags": []
     },
     "output_type": "execute_result"
    }
   ],
   "source": [
    "x_relu * std_label + mean_label"
   ]
  },
  {
   "cell_type": "code",
   "execution_count": 62,
   "metadata": {
    "colab": {
     "base_uri": "https://localhost:8080/"
    },
    "executionInfo": {
     "elapsed": 1125,
     "status": "ok",
     "timestamp": 1618741470232,
     "user": {
      "displayName": "Muhammad Abdullah",
      "photoUrl": "https://lh3.googleusercontent.com/a-/AOh14GgzEqtifDXcGhaQ2OrGuwEdOYc5Oja8bXPgQjiT=s64",
      "userId": "11496234986057044171"
     },
     "user_tz": -300
    },
    "id": "_AFbfTrSgn3J",
    "outputId": "d72a8c80-b4ee-4fea-a287-86864c297af2"
   },
   "outputs": [
    {
     "data": {
      "text/plain": [
       "array([[6316.632]], dtype=float32)"
      ]
     },
     "execution_count": 62,
     "metadata": {
      "tags": []
     },
     "output_type": "execute_result"
    }
   ],
   "source": [
    "x_regular = model_regular.predict(test[5].reshape(1,test.shape[1]))\n",
    "x_regular * std_label + mean_label"
   ]
  },
  {
   "cell_type": "code",
   "execution_count": 63,
   "metadata": {
    "colab": {
     "base_uri": "https://localhost:8080/"
    },
    "executionInfo": {
     "elapsed": 880,
     "status": "ok",
     "timestamp": 1618741476599,
     "user": {
      "displayName": "Muhammad Abdullah",
      "photoUrl": "https://lh3.googleusercontent.com/a-/AOh14GgzEqtifDXcGhaQ2OrGuwEdOYc5Oja8bXPgQjiT=s64",
      "userId": "11496234986057044171"
     },
     "user_tz": -300
    },
    "id": "YalwemNegp3n",
    "outputId": "3e95c946-cc84-4030-e195-e6a0fd7aecfa"
   },
   "outputs": [
    {
     "data": {
      "text/plain": [
       "array([[7717.6426]], dtype=float32)"
      ]
     },
     "execution_count": 63,
     "metadata": {
      "tags": []
     },
     "output_type": "execute_result"
    }
   ],
   "source": [
    "x_drop = model_drop.predict(test[5].reshape(1,test.shape[1]))\n",
    "x_drop * std_label + mean_label"
   ]
  },
  {
   "cell_type": "code",
   "execution_count": 64,
   "metadata": {
    "colab": {
     "base_uri": "https://localhost:8080/"
    },
    "executionInfo": {
     "elapsed": 753,
     "status": "ok",
     "timestamp": 1618741481306,
     "user": {
      "displayName": "Muhammad Abdullah",
      "photoUrl": "https://lh3.googleusercontent.com/a-/AOh14GgzEqtifDXcGhaQ2OrGuwEdOYc5Oja8bXPgQjiT=s64",
      "userId": "11496234986057044171"
     },
     "user_tz": -300
    },
    "id": "TAw3BU5cgrcS",
    "outputId": "b55b8663-192b-47cd-aa78-ff4569154b35"
   },
   "outputs": [
    {
     "data": {
      "text/plain": [
       "7609.000199706916"
      ]
     },
     "execution_count": 64,
     "metadata": {
      "tags": []
     },
     "output_type": "execute_result"
    }
   ],
   "source": [
    "test_l[5]* std_label + mean_label"
   ]
  },
  {
   "cell_type": "code",
   "execution_count": null,
   "metadata": {
    "id": "fjEQB9f8gsww"
   },
   "outputs": [],
   "source": []
  }
 ],
 "metadata": {
  "colab": {
   "authorship_tag": "ABX9TyOYnAnjTgW//D/Qt4s16r/I",
   "collapsed_sections": [],
   "name": "Car_Price_prediction_PIAIC113230.ipynb",
   "provenance": []
  },
  "kernelspec": {
   "display_name": "Python 3",
   "language": "python",
   "name": "python3"
  },
  "language_info": {
   "codemirror_mode": {
    "name": "ipython",
    "version": 3
   },
   "file_extension": ".py",
   "mimetype": "text/x-python",
   "name": "python",
   "nbconvert_exporter": "python",
   "pygments_lexer": "ipython3",
   "version": "3.8.3"
  }
 },
 "nbformat": 4,
 "nbformat_minor": 1
}
